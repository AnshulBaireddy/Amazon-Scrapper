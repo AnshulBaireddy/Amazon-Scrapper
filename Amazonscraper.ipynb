{
 "cells": [
  {
   "cell_type": "code",
   "execution_count": 2,
   "id": "dad30a91",
   "metadata": {},
   "outputs": [],
   "source": [
    "import pandas as pd\n",
    "import seaborn as sns\n",
    "import matplotlib.pyplot as plt\n",
    "import numpy as np\n",
    "import plotly.express as px"
   ]
  },
  {
   "cell_type": "code",
   "execution_count": 3,
   "id": "2b50aa4a",
   "metadata": {},
   "outputs": [],
   "source": [
    "dataset = pd.read_csv(\"/Users/anshulreddy/R_storage/marketing_sample_for_amazon_com-ecommerce__20200101_20200131__10k_data.csv\")"
   ]
  },
  {
   "cell_type": "code",
   "execution_count": 4,
   "id": "b02a8d72",
   "metadata": {},
   "outputs": [
    {
     "data": {
      "text/html": [
       "<div>\n",
       "<style scoped>\n",
       "    .dataframe tbody tr th:only-of-type {\n",
       "        vertical-align: middle;\n",
       "    }\n",
       "\n",
       "    .dataframe tbody tr th {\n",
       "        vertical-align: top;\n",
       "    }\n",
       "\n",
       "    .dataframe thead th {\n",
       "        text-align: right;\n",
       "    }\n",
       "</style>\n",
       "<table border=\"1\" class=\"dataframe\">\n",
       "  <thead>\n",
       "    <tr style=\"text-align: right;\">\n",
       "      <th></th>\n",
       "      <th>Uniq Id</th>\n",
       "      <th>Product Name</th>\n",
       "      <th>Brand Name</th>\n",
       "      <th>Asin</th>\n",
       "      <th>Category</th>\n",
       "      <th>Upc Ean Code</th>\n",
       "      <th>List Price</th>\n",
       "      <th>Selling Price</th>\n",
       "      <th>Quantity</th>\n",
       "      <th>Model Number</th>\n",
       "      <th>...</th>\n",
       "      <th>Product Url</th>\n",
       "      <th>Stock</th>\n",
       "      <th>Product Details</th>\n",
       "      <th>Dimensions</th>\n",
       "      <th>Color</th>\n",
       "      <th>Ingredients</th>\n",
       "      <th>Direction To Use</th>\n",
       "      <th>Is Amazon Seller</th>\n",
       "      <th>Size Quantity Variant</th>\n",
       "      <th>Product Description</th>\n",
       "    </tr>\n",
       "  </thead>\n",
       "  <tbody>\n",
       "    <tr>\n",
       "      <th>0</th>\n",
       "      <td>4c69b61db1fc16e7013b43fc926e502d</td>\n",
       "      <td>DB Longboards CoreFlex Crossbow 41\" Bamboo Fib...</td>\n",
       "      <td>NaN</td>\n",
       "      <td>NaN</td>\n",
       "      <td>Sports &amp; Outdoors | Outdoor Recreation | Skate...</td>\n",
       "      <td>NaN</td>\n",
       "      <td>NaN</td>\n",
       "      <td>$237.68</td>\n",
       "      <td>NaN</td>\n",
       "      <td>NaN</td>\n",
       "      <td>...</td>\n",
       "      <td>https://www.amazon.com/DB-Longboards-CoreFlex-...</td>\n",
       "      <td>NaN</td>\n",
       "      <td>NaN</td>\n",
       "      <td>NaN</td>\n",
       "      <td>NaN</td>\n",
       "      <td>NaN</td>\n",
       "      <td>NaN</td>\n",
       "      <td>Y</td>\n",
       "      <td>NaN</td>\n",
       "      <td>NaN</td>\n",
       "    </tr>\n",
       "    <tr>\n",
       "      <th>1</th>\n",
       "      <td>66d49bbed043f5be260fa9f7fbff5957</td>\n",
       "      <td>Electronic Snap Circuits Mini Kits Classpack, ...</td>\n",
       "      <td>NaN</td>\n",
       "      <td>NaN</td>\n",
       "      <td>Toys &amp; Games | Learning &amp; Education | Science ...</td>\n",
       "      <td>NaN</td>\n",
       "      <td>NaN</td>\n",
       "      <td>$99.95</td>\n",
       "      <td>NaN</td>\n",
       "      <td>55324</td>\n",
       "      <td>...</td>\n",
       "      <td>https://www.amazon.com/Electronic-Circuits-Cla...</td>\n",
       "      <td>NaN</td>\n",
       "      <td>NaN</td>\n",
       "      <td>NaN</td>\n",
       "      <td>NaN</td>\n",
       "      <td>NaN</td>\n",
       "      <td>NaN</td>\n",
       "      <td>Y</td>\n",
       "      <td>NaN</td>\n",
       "      <td>NaN</td>\n",
       "    </tr>\n",
       "    <tr>\n",
       "      <th>2</th>\n",
       "      <td>2c55cae269aebf53838484b0d7dd931a</td>\n",
       "      <td>3Doodler Create Flexy 3D Printing Filament Ref...</td>\n",
       "      <td>NaN</td>\n",
       "      <td>NaN</td>\n",
       "      <td>Toys &amp; Games | Arts &amp; Crafts | Craft Kits</td>\n",
       "      <td>NaN</td>\n",
       "      <td>NaN</td>\n",
       "      <td>$34.99</td>\n",
       "      <td>NaN</td>\n",
       "      <td>NaN</td>\n",
       "      <td>...</td>\n",
       "      <td>https://www.amazon.com/3Doodler-Plastic-Innova...</td>\n",
       "      <td>NaN</td>\n",
       "      <td>NaN</td>\n",
       "      <td>NaN</td>\n",
       "      <td>NaN</td>\n",
       "      <td>NaN</td>\n",
       "      <td>NaN</td>\n",
       "      <td>Y</td>\n",
       "      <td>NaN</td>\n",
       "      <td>NaN</td>\n",
       "    </tr>\n",
       "    <tr>\n",
       "      <th>3</th>\n",
       "      <td>18018b6bc416dab347b1b7db79994afa</td>\n",
       "      <td>Guillow Airplane Design Studio with Travel Cas...</td>\n",
       "      <td>NaN</td>\n",
       "      <td>NaN</td>\n",
       "      <td>Toys &amp; Games | Hobbies | Models &amp; Model Kits |...</td>\n",
       "      <td>NaN</td>\n",
       "      <td>NaN</td>\n",
       "      <td>$28.91</td>\n",
       "      <td>NaN</td>\n",
       "      <td>142</td>\n",
       "      <td>...</td>\n",
       "      <td>https://www.amazon.com/Guillow-Airplane-Design...</td>\n",
       "      <td>NaN</td>\n",
       "      <td>NaN</td>\n",
       "      <td>NaN</td>\n",
       "      <td>NaN</td>\n",
       "      <td>NaN</td>\n",
       "      <td>NaN</td>\n",
       "      <td>Y</td>\n",
       "      <td>NaN</td>\n",
       "      <td>NaN</td>\n",
       "    </tr>\n",
       "    <tr>\n",
       "      <th>4</th>\n",
       "      <td>e04b990e95bf73bbe6a3fa09785d7cd0</td>\n",
       "      <td>Woodstock- Collage 500 pc Puzzle</td>\n",
       "      <td>NaN</td>\n",
       "      <td>NaN</td>\n",
       "      <td>Toys &amp; Games | Puzzles | Jigsaw Puzzles</td>\n",
       "      <td>NaN</td>\n",
       "      <td>NaN</td>\n",
       "      <td>$17.49</td>\n",
       "      <td>NaN</td>\n",
       "      <td>62151</td>\n",
       "      <td>...</td>\n",
       "      <td>https://www.amazon.com/Woodstock-Collage-500-p...</td>\n",
       "      <td>NaN</td>\n",
       "      <td>NaN</td>\n",
       "      <td>NaN</td>\n",
       "      <td>NaN</td>\n",
       "      <td>NaN</td>\n",
       "      <td>NaN</td>\n",
       "      <td>Y</td>\n",
       "      <td>NaN</td>\n",
       "      <td>NaN</td>\n",
       "    </tr>\n",
       "  </tbody>\n",
       "</table>\n",
       "<p>5 rows × 28 columns</p>\n",
       "</div>"
      ],
      "text/plain": [
       "                            Uniq Id  \\\n",
       "0  4c69b61db1fc16e7013b43fc926e502d   \n",
       "1  66d49bbed043f5be260fa9f7fbff5957   \n",
       "2  2c55cae269aebf53838484b0d7dd931a   \n",
       "3  18018b6bc416dab347b1b7db79994afa   \n",
       "4  e04b990e95bf73bbe6a3fa09785d7cd0   \n",
       "\n",
       "                                        Product Name  Brand Name  Asin  \\\n",
       "0  DB Longboards CoreFlex Crossbow 41\" Bamboo Fib...         NaN   NaN   \n",
       "1  Electronic Snap Circuits Mini Kits Classpack, ...         NaN   NaN   \n",
       "2  3Doodler Create Flexy 3D Printing Filament Ref...         NaN   NaN   \n",
       "3  Guillow Airplane Design Studio with Travel Cas...         NaN   NaN   \n",
       "4                   Woodstock- Collage 500 pc Puzzle         NaN   NaN   \n",
       "\n",
       "                                            Category Upc Ean Code  List Price  \\\n",
       "0  Sports & Outdoors | Outdoor Recreation | Skate...          NaN         NaN   \n",
       "1  Toys & Games | Learning & Education | Science ...          NaN         NaN   \n",
       "2          Toys & Games | Arts & Crafts | Craft Kits          NaN         NaN   \n",
       "3  Toys & Games | Hobbies | Models & Model Kits |...          NaN         NaN   \n",
       "4            Toys & Games | Puzzles | Jigsaw Puzzles          NaN         NaN   \n",
       "\n",
       "  Selling Price  Quantity Model Number  ...  \\\n",
       "0       $237.68       NaN          NaN  ...   \n",
       "1        $99.95       NaN        55324  ...   \n",
       "2        $34.99       NaN          NaN  ...   \n",
       "3        $28.91       NaN          142  ...   \n",
       "4        $17.49       NaN        62151  ...   \n",
       "\n",
       "                                         Product Url Stock Product Details  \\\n",
       "0  https://www.amazon.com/DB-Longboards-CoreFlex-...   NaN             NaN   \n",
       "1  https://www.amazon.com/Electronic-Circuits-Cla...   NaN             NaN   \n",
       "2  https://www.amazon.com/3Doodler-Plastic-Innova...   NaN             NaN   \n",
       "3  https://www.amazon.com/Guillow-Airplane-Design...   NaN             NaN   \n",
       "4  https://www.amazon.com/Woodstock-Collage-500-p...   NaN             NaN   \n",
       "\n",
       "  Dimensions Color Ingredients Direction To Use  Is Amazon Seller  \\\n",
       "0        NaN   NaN         NaN              NaN                 Y   \n",
       "1        NaN   NaN         NaN              NaN                 Y   \n",
       "2        NaN   NaN         NaN              NaN                 Y   \n",
       "3        NaN   NaN         NaN              NaN                 Y   \n",
       "4        NaN   NaN         NaN              NaN                 Y   \n",
       "\n",
       "  Size Quantity Variant  Product Description  \n",
       "0                   NaN                  NaN  \n",
       "1                   NaN                  NaN  \n",
       "2                   NaN                  NaN  \n",
       "3                   NaN                  NaN  \n",
       "4                   NaN                  NaN  \n",
       "\n",
       "[5 rows x 28 columns]"
      ]
     },
     "execution_count": 4,
     "metadata": {},
     "output_type": "execute_result"
    }
   ],
   "source": [
    "dataset.head(5)"
   ]
  },
  {
   "cell_type": "code",
   "execution_count": 5,
   "id": "0646f28e",
   "metadata": {},
   "outputs": [
    {
     "name": "stdout",
     "output_type": "stream",
     "text": [
      "<class 'pandas.core.frame.DataFrame'>\n",
      "RangeIndex: 10002 entries, 0 to 10001\n",
      "Data columns (total 28 columns):\n",
      " #   Column                 Non-Null Count  Dtype  \n",
      "---  ------                 --------------  -----  \n",
      " 0   Uniq Id                10002 non-null  object \n",
      " 1   Product Name           10002 non-null  object \n",
      " 2   Brand Name             0 non-null      float64\n",
      " 3   Asin                   0 non-null      float64\n",
      " 4   Category               9172 non-null   object \n",
      " 5   Upc Ean Code           34 non-null     object \n",
      " 6   List Price             0 non-null      float64\n",
      " 7   Selling Price          9895 non-null   object \n",
      " 8   Quantity               0 non-null      float64\n",
      " 9   Model Number           8232 non-null   object \n",
      " 10  About Product          9729 non-null   object \n",
      " 11  Product Specification  8370 non-null   object \n",
      " 12  Technical Details      9212 non-null   object \n",
      " 13  Shipping Weight        8864 non-null   object \n",
      " 14  Product Dimensions     479 non-null    object \n",
      " 15  Image                  10002 non-null  object \n",
      " 16  Variants               2478 non-null   object \n",
      " 17  Sku                    0 non-null      float64\n",
      " 18  Product Url            10002 non-null  object \n",
      " 19  Stock                  0 non-null      float64\n",
      " 20  Product Details        0 non-null      float64\n",
      " 21  Dimensions             0 non-null      float64\n",
      " 22  Color                  0 non-null      float64\n",
      " 23  Ingredients            0 non-null      float64\n",
      " 24  Direction To Use       0 non-null      float64\n",
      " 25  Is Amazon Seller       10002 non-null  object \n",
      " 26  Size Quantity Variant  0 non-null      float64\n",
      " 27  Product Description    0 non-null      float64\n",
      "dtypes: float64(13), object(15)\n",
      "memory usage: 2.1+ MB\n"
     ]
    }
   ],
   "source": [
    "dataset.shape\n",
    "dataset.info()"
   ]
  },
  {
   "cell_type": "code",
   "execution_count": 6,
   "id": "eefda4a1",
   "metadata": {},
   "outputs": [
    {
     "data": {
      "text/plain": [
       "Index(['Uniq Id', 'Product Name', 'Brand Name', 'Asin', 'Category',\n",
       "       'Upc Ean Code', 'List Price', 'Selling Price', 'Quantity',\n",
       "       'Model Number', 'About Product', 'Product Specification',\n",
       "       'Technical Details', 'Shipping Weight', 'Product Dimensions', 'Image',\n",
       "       'Variants', 'Sku', 'Product Url', 'Stock', 'Product Details',\n",
       "       'Dimensions', 'Color', 'Ingredients', 'Direction To Use',\n",
       "       'Is Amazon Seller', 'Size Quantity Variant', 'Product Description'],\n",
       "      dtype='object')"
      ]
     },
     "execution_count": 6,
     "metadata": {},
     "output_type": "execute_result"
    }
   ],
   "source": [
    "dataset.columns"
   ]
  },
  {
   "cell_type": "code",
   "execution_count": 7,
   "id": "e7acd9ba",
   "metadata": {},
   "outputs": [],
   "source": [
    "#redundant column list which we will not use\n",
    "colo = [0,2,3,5,6,8,9,12,14,15,16,17,18,19,20,21,22,23,24,25,26,27]"
   ]
  },
  {
   "cell_type": "code",
   "execution_count": 8,
   "id": "6b5bbf51",
   "metadata": {},
   "outputs": [],
   "source": [
    "\n",
    "dataset.drop(dataset.columns[colo], axis =1, inplace=True)"
   ]
  },
  {
   "cell_type": "code",
   "execution_count": 9,
   "id": "c8485db7",
   "metadata": {},
   "outputs": [
    {
     "name": "stdout",
     "output_type": "stream",
     "text": [
      "<class 'pandas.core.frame.DataFrame'>\n",
      "Int64Index: 7216 entries, 0 to 10001\n",
      "Data columns (total 6 columns):\n",
      " #   Column                 Non-Null Count  Dtype \n",
      "---  ------                 --------------  ----- \n",
      " 0   Product Name           7216 non-null   object\n",
      " 1   Category               7216 non-null   object\n",
      " 2   Selling Price          7216 non-null   object\n",
      " 3   About Product          7216 non-null   object\n",
      " 4   Product Specification  7216 non-null   object\n",
      " 5   Shipping Weight        7216 non-null   object\n",
      "dtypes: object(6)\n",
      "memory usage: 394.6+ KB\n"
     ]
    }
   ],
   "source": [
    "dataset.dropna(inplace = True)\n",
    "dataset.info()"
   ]
  },
  {
   "cell_type": "code",
   "execution_count": 10,
   "id": "576059fd",
   "metadata": {},
   "outputs": [],
   "source": [
    "new = dataset[\"Category\"].str.split(\"|\", n = 3, expand = True)"
   ]
  },
  {
   "cell_type": "code",
   "execution_count": 11,
   "id": "08d6906c",
   "metadata": {},
   "outputs": [],
   "source": [
    "#main category of product"
   ]
  },
  {
   "cell_type": "code",
   "execution_count": 12,
   "id": "7a37ce7f",
   "metadata": {},
   "outputs": [],
   "source": [
    "dataset[\"Main Category\"]= new[0]"
   ]
  },
  {
   "cell_type": "code",
   "execution_count": 13,
   "id": "640f641c",
   "metadata": {},
   "outputs": [],
   "source": [
    "dataset.drop(columns =[\"Category\"], inplace = True)\n"
   ]
  },
  {
   "cell_type": "code",
   "execution_count": 14,
   "id": "9417b482",
   "metadata": {},
   "outputs": [
    {
     "data": {
      "text/html": [
       "<div>\n",
       "<style scoped>\n",
       "    .dataframe tbody tr th:only-of-type {\n",
       "        vertical-align: middle;\n",
       "    }\n",
       "\n",
       "    .dataframe tbody tr th {\n",
       "        vertical-align: top;\n",
       "    }\n",
       "\n",
       "    .dataframe thead th {\n",
       "        text-align: right;\n",
       "    }\n",
       "</style>\n",
       "<table border=\"1\" class=\"dataframe\">\n",
       "  <thead>\n",
       "    <tr style=\"text-align: right;\">\n",
       "      <th></th>\n",
       "      <th>Product Name</th>\n",
       "      <th>Selling Price</th>\n",
       "      <th>About Product</th>\n",
       "      <th>Product Specification</th>\n",
       "      <th>Shipping Weight</th>\n",
       "      <th>Main Category</th>\n",
       "    </tr>\n",
       "  </thead>\n",
       "  <tbody>\n",
       "    <tr>\n",
       "      <th>0</th>\n",
       "      <td>DB Longboards CoreFlex Crossbow 41\" Bamboo Fib...</td>\n",
       "      <td>$237.68</td>\n",
       "      <td>Make sure this fits by entering your model num...</td>\n",
       "      <td>Shipping Weight: 10.7 pounds (View shipping ra...</td>\n",
       "      <td>10.7 pounds</td>\n",
       "      <td>Sports &amp; Outdoors</td>\n",
       "    </tr>\n",
       "    <tr>\n",
       "      <th>1</th>\n",
       "      <td>Electronic Snap Circuits Mini Kits Classpack, ...</td>\n",
       "      <td>$99.95</td>\n",
       "      <td>Make sure this fits by entering your model num...</td>\n",
       "      <td>Product Dimensions:         14.7 x 11.1 x 10.2...</td>\n",
       "      <td>4 pounds</td>\n",
       "      <td>Toys &amp; Games</td>\n",
       "    </tr>\n",
       "    <tr>\n",
       "      <th>2</th>\n",
       "      <td>3Doodler Create Flexy 3D Printing Filament Ref...</td>\n",
       "      <td>$34.99</td>\n",
       "      <td>Make sure this fits by entering your model num...</td>\n",
       "      <td>ProductDimensions:10.3x3.4x0.8inches|ItemWeigh...</td>\n",
       "      <td>12.8 ounces</td>\n",
       "      <td>Toys &amp; Games</td>\n",
       "    </tr>\n",
       "    <tr>\n",
       "      <th>3</th>\n",
       "      <td>Guillow Airplane Design Studio with Travel Cas...</td>\n",
       "      <td>$28.91</td>\n",
       "      <td>Make 8 different Planes at one time. | Experim...</td>\n",
       "      <td>ProductDimensions:3.5x6.2x13inches|ItemWeight:...</td>\n",
       "      <td>13.4 ounces</td>\n",
       "      <td>Toys &amp; Games</td>\n",
       "    </tr>\n",
       "    <tr>\n",
       "      <th>4</th>\n",
       "      <td>Woodstock- Collage 500 pc Puzzle</td>\n",
       "      <td>$17.49</td>\n",
       "      <td>Make sure this fits by entering your model num...</td>\n",
       "      <td>ProductDimensions:1.9x8x10inches|ItemWeight:13...</td>\n",
       "      <td>13.4 ounces</td>\n",
       "      <td>Toys &amp; Games</td>\n",
       "    </tr>\n",
       "  </tbody>\n",
       "</table>\n",
       "</div>"
      ],
      "text/plain": [
       "                                        Product Name Selling Price  \\\n",
       "0  DB Longboards CoreFlex Crossbow 41\" Bamboo Fib...       $237.68   \n",
       "1  Electronic Snap Circuits Mini Kits Classpack, ...        $99.95   \n",
       "2  3Doodler Create Flexy 3D Printing Filament Ref...        $34.99   \n",
       "3  Guillow Airplane Design Studio with Travel Cas...        $28.91   \n",
       "4                   Woodstock- Collage 500 pc Puzzle        $17.49   \n",
       "\n",
       "                                       About Product  \\\n",
       "0  Make sure this fits by entering your model num...   \n",
       "1  Make sure this fits by entering your model num...   \n",
       "2  Make sure this fits by entering your model num...   \n",
       "3  Make 8 different Planes at one time. | Experim...   \n",
       "4  Make sure this fits by entering your model num...   \n",
       "\n",
       "                               Product Specification Shipping Weight  \\\n",
       "0  Shipping Weight: 10.7 pounds (View shipping ra...     10.7 pounds   \n",
       "1  Product Dimensions:         14.7 x 11.1 x 10.2...        4 pounds   \n",
       "2  ProductDimensions:10.3x3.4x0.8inches|ItemWeigh...     12.8 ounces   \n",
       "3  ProductDimensions:3.5x6.2x13inches|ItemWeight:...     13.4 ounces   \n",
       "4  ProductDimensions:1.9x8x10inches|ItemWeight:13...     13.4 ounces   \n",
       "\n",
       "        Main Category  \n",
       "0  Sports & Outdoors   \n",
       "1       Toys & Games   \n",
       "2       Toys & Games   \n",
       "3       Toys & Games   \n",
       "4       Toys & Games   "
      ]
     },
     "execution_count": 14,
     "metadata": {},
     "output_type": "execute_result"
    }
   ],
   "source": [
    "dataset.head()\n"
   ]
  },
  {
   "cell_type": "code",
   "execution_count": 15,
   "id": "d38aea82",
   "metadata": {},
   "outputs": [
    {
     "name": "stderr",
     "output_type": "stream",
     "text": [
      "/var/folders/p8/8x8vy4td72vfml9k9swgv8m80000gn/T/ipykernel_12373/4196337224.py:6: FutureWarning: The default value of regex will change from True to False in a future version. In addition, single character regular expressions will *not* be treated as literal strings when regex=True.\n",
      "  dataset['Selling Price($)'] = dataset['Selling Price($)'].str.replace('$', '')\n"
     ]
    },
    {
     "data": {
      "text/html": [
       "<div>\n",
       "<style scoped>\n",
       "    .dataframe tbody tr th:only-of-type {\n",
       "        vertical-align: middle;\n",
       "    }\n",
       "\n",
       "    .dataframe tbody tr th {\n",
       "        vertical-align: top;\n",
       "    }\n",
       "\n",
       "    .dataframe thead th {\n",
       "        text-align: right;\n",
       "    }\n",
       "</style>\n",
       "<table border=\"1\" class=\"dataframe\">\n",
       "  <thead>\n",
       "    <tr style=\"text-align: right;\">\n",
       "      <th></th>\n",
       "      <th>Product Name</th>\n",
       "      <th>Selling Price($)</th>\n",
       "      <th>About Product</th>\n",
       "      <th>Product Specification</th>\n",
       "      <th>Shipping Weight(Pounds)</th>\n",
       "      <th>Main Category</th>\n",
       "    </tr>\n",
       "  </thead>\n",
       "  <tbody>\n",
       "    <tr>\n",
       "      <th>0</th>\n",
       "      <td>DB Longboards CoreFlex Crossbow 41\" Bamboo Fib...</td>\n",
       "      <td>237.68</td>\n",
       "      <td>Make sure this fits by entering your model num...</td>\n",
       "      <td>Shipping Weight: 10.7 pounds (View shipping ra...</td>\n",
       "      <td>10.7</td>\n",
       "      <td>Sports &amp; Outdoors</td>\n",
       "    </tr>\n",
       "    <tr>\n",
       "      <th>1</th>\n",
       "      <td>Electronic Snap Circuits Mini Kits Classpack, ...</td>\n",
       "      <td>99.95</td>\n",
       "      <td>Make sure this fits by entering your model num...</td>\n",
       "      <td>Product Dimensions:         14.7 x 11.1 x 10.2...</td>\n",
       "      <td>4.0</td>\n",
       "      <td>Toys &amp; Games</td>\n",
       "    </tr>\n",
       "    <tr>\n",
       "      <th>2</th>\n",
       "      <td>3Doodler Create Flexy 3D Printing Filament Ref...</td>\n",
       "      <td>34.99</td>\n",
       "      <td>Make sure this fits by entering your model num...</td>\n",
       "      <td>ProductDimensions:10.3x3.4x0.8inches|ItemWeigh...</td>\n",
       "      <td>12.8</td>\n",
       "      <td>Toys &amp; Games</td>\n",
       "    </tr>\n",
       "    <tr>\n",
       "      <th>3</th>\n",
       "      <td>Guillow Airplane Design Studio with Travel Cas...</td>\n",
       "      <td>28.91</td>\n",
       "      <td>Make 8 different Planes at one time. | Experim...</td>\n",
       "      <td>ProductDimensions:3.5x6.2x13inches|ItemWeight:...</td>\n",
       "      <td>13.4</td>\n",
       "      <td>Toys &amp; Games</td>\n",
       "    </tr>\n",
       "    <tr>\n",
       "      <th>4</th>\n",
       "      <td>Woodstock- Collage 500 pc Puzzle</td>\n",
       "      <td>17.49</td>\n",
       "      <td>Make sure this fits by entering your model num...</td>\n",
       "      <td>ProductDimensions:1.9x8x10inches|ItemWeight:13...</td>\n",
       "      <td>13.4</td>\n",
       "      <td>Toys &amp; Games</td>\n",
       "    </tr>\n",
       "  </tbody>\n",
       "</table>\n",
       "</div>"
      ],
      "text/plain": [
       "                                        Product Name  Selling Price($)  \\\n",
       "0  DB Longboards CoreFlex Crossbow 41\" Bamboo Fib...            237.68   \n",
       "1  Electronic Snap Circuits Mini Kits Classpack, ...             99.95   \n",
       "2  3Doodler Create Flexy 3D Printing Filament Ref...             34.99   \n",
       "3  Guillow Airplane Design Studio with Travel Cas...             28.91   \n",
       "4                   Woodstock- Collage 500 pc Puzzle             17.49   \n",
       "\n",
       "                                       About Product  \\\n",
       "0  Make sure this fits by entering your model num...   \n",
       "1  Make sure this fits by entering your model num...   \n",
       "2  Make sure this fits by entering your model num...   \n",
       "3  Make 8 different Planes at one time. | Experim...   \n",
       "4  Make sure this fits by entering your model num...   \n",
       "\n",
       "                               Product Specification  Shipping Weight(Pounds)  \\\n",
       "0  Shipping Weight: 10.7 pounds (View shipping ra...                     10.7   \n",
       "1  Product Dimensions:         14.7 x 11.1 x 10.2...                      4.0   \n",
       "2  ProductDimensions:10.3x3.4x0.8inches|ItemWeigh...                     12.8   \n",
       "3  ProductDimensions:3.5x6.2x13inches|ItemWeight:...                     13.4   \n",
       "4  ProductDimensions:1.9x8x10inches|ItemWeight:13...                     13.4   \n",
       "\n",
       "        Main Category  \n",
       "0  Sports & Outdoors   \n",
       "1       Toys & Games   \n",
       "2       Toys & Games   \n",
       "3       Toys & Games   \n",
       "4       Toys & Games   "
      ]
     },
     "execution_count": 15,
     "metadata": {},
     "output_type": "execute_result"
    }
   ],
   "source": [
    "dataset.rename(columns = {'Uniq Id':'Id','Shipping Weight':'Shipping Weight(Pounds)', 'Selling Price':'Selling Price($)'}, inplace = True)\n",
    "\n",
    "dataset['Shipping Weight(Pounds)'] = dataset['Shipping Weight(Pounds)'].str.strip('ounces')\n",
    "dataset['Shipping Weight(Pounds)'] = dataset['Shipping Weight(Pounds)'].str.strip('pounds')\n",
    "dataset['Shipping Weight(Pounds)'] = pd.to_numeric(dataset['Shipping Weight(Pounds)'], errors='coerce')\n",
    "dataset['Selling Price($)'] = dataset['Selling Price($)'].str.replace('$', '')\n",
    "dataset['Selling Price($)'] = pd.to_numeric(dataset['Selling Price($)'], errors='coerce')\n",
    "dataset.head()"
   ]
  },
  {
   "cell_type": "code",
   "execution_count": 16,
   "id": "26764c49",
   "metadata": {},
   "outputs": [
    {
     "name": "stdout",
     "output_type": "stream",
     "text": [
      "<class 'pandas.core.frame.DataFrame'>\n",
      "Int64Index: 7216 entries, 0 to 10001\n",
      "Data columns (total 6 columns):\n",
      " #   Column                   Non-Null Count  Dtype  \n",
      "---  ------                   --------------  -----  \n",
      " 0   Product Name             7216 non-null   object \n",
      " 1   Selling Price($)         7045 non-null   float64\n",
      " 2   About Product            7216 non-null   object \n",
      " 3   Product Specification    7216 non-null   object \n",
      " 4   Shipping Weight(Pounds)  7214 non-null   float64\n",
      " 5   Main Category            7216 non-null   object \n",
      "dtypes: float64(2), object(4)\n",
      "memory usage: 394.6+ KB\n"
     ]
    }
   ],
   "source": [
    "dataset.info()\n"
   ]
  },
  {
   "cell_type": "code",
   "execution_count": 17,
   "id": "1b9c5627",
   "metadata": {},
   "outputs": [],
   "source": [
    "#Data is cleaned we can start EDA\n",
    "import seaborn as sns\n",
    "import matplotlib.pyplot as plt"
   ]
  },
  {
   "cell_type": "code",
   "execution_count": 18,
   "id": "30e0c025",
   "metadata": {},
   "outputs": [
    {
     "data": {
      "text/plain": [
       "array(['Sports & Outdoors ', 'Toys & Games ',\n",
       "       'Clothing, Shoes & Jewelry ', 'Home & Kitchen ', 'Pet Supplies ',\n",
       "       'Arts, Crafts & Sewing ', 'Electronics ', 'Patio, Lawn & Garden ',\n",
       "       'Tools & Home Improvement ', 'Office Products ', 'Baby Products ',\n",
       "       'Grocery & Gourmet Food ', 'Video Games ',\n",
       "       'Remote & App Controlled Vehicle Parts ', 'Health & Household ',\n",
       "       'Industrial & Scientific ', 'Beauty & Personal Care ',\n",
       "       'Automotive ', 'Remote & App Controlled Vehicles & Parts ',\n",
       "       'Musical Instruments ', 'Hobbies ', 'Movies & TV ',\n",
       "       'Cell Phones & Accessories '], dtype=object)"
      ]
     },
     "execution_count": 18,
     "metadata": {},
     "output_type": "execute_result"
    }
   ],
   "source": [
    "# finding out the unique main categories\n",
    "dataset[\"Main Category\"].unique()"
   ]
  },
  {
   "cell_type": "code",
   "execution_count": 19,
   "id": "3d6f164e",
   "metadata": {},
   "outputs": [
    {
     "data": {
      "text/plain": [
       "Text(0, 0.5, 'Count of products')"
      ]
     },
     "execution_count": 19,
     "metadata": {},
     "output_type": "execute_result"
    },
    {
     "data": {
      "image/png": "[encoded data removed]",
      "text/plain": [
       "<Figure size 432x288 with 1 Axes>"
      ]
     },
     "metadata": {
      "needs_background": "light"
     },
     "output_type": "display_data"
    }
   ],
   "source": [
    "#Top 5 barplot of categories\n",
    "order = dataset['Main Category'].value_counts()[:5].index\n",
    "sns.countplot(y='Main Category', data=dataset, order=order)\n",
    "plt.title(\"Product count by category\")\n",
    "plt.xlabel(\"Main category\")\n",
    "plt.ylabel(\"Count of products\")"
   ]
  },
  {
   "cell_type": "code",
   "execution_count": 20,
   "id": "670f139b",
   "metadata": {},
   "outputs": [
    {
     "data": {
      "text/plain": [
       "Text(0.5, 1.0, 'Relationship between Price & Shipping Weight in Toys & Games category')"
      ]
     },
     "execution_count": 20,
     "metadata": {},
     "output_type": "execute_result"
    },
    {
     "data": {
      "image/png": "[encoded data removed]",
      "text/plain": [
       "<Figure size 432x288 with 1 Axes>"
      ]
     },
     "metadata": {
      "needs_background": "light"
     },
     "output_type": "display_data"
    }
   ],
   "source": [
    "#generate scatterplot to understand the relationship \n",
    "toys = dataset[dataset[\"Main Category\"] == 'Toys & Games ']\n",
    "sns.scatterplot(data=toys, x=\"Selling Price($)\", y=\"Shipping Weight(Pounds)\")\n",
    "plt.title(\"Relationship between Price & Shipping Weight in Toys & Games category\")"
   ]
  },
  {
   "cell_type": "code",
   "execution_count": 21,
   "id": "9815c92a",
   "metadata": {},
   "outputs": [
    {
     "data": {
      "text/plain": [
       "Text(0.5, 1.0, 'Distribution of the Prices in Toys & Games Category')"
      ]
     },
     "execution_count": 21,
     "metadata": {},
     "output_type": "execute_result"
    },
    {
     "data": {
      "image/png": "[encoded data removed]",
      "text/plain": [
       "<Figure size 432x288 with 1 Axes>"
      ]
     },
     "metadata": {
      "needs_background": "light"
     },
     "output_type": "display_data"
    }
   ],
   "source": [
    "sns.boxplot(data = toys, x='Main Category', y='Selling Price($)', showfliers=False)\n",
    "plt.title(\"Distribution of the Prices in Toys & Games Category\")"
   ]
  },
  {
   "cell_type": "code",
   "execution_count": 22,
   "id": "10914aba",
   "metadata": {},
   "outputs": [
    {
     "data": {
      "text/plain": [
       "Text(0.5, 1.0, 'Distribution of the Prices in Home & Kitchen Category')"
      ]
     },
     "execution_count": 22,
     "metadata": {},
     "output_type": "execute_result"
    },
    {
     "data": {
      "image/png": "[encoded data removed]",
      "text/plain": [
       "<Figure size 432x288 with 1 Axes>"
      ]
     },
     "metadata": {
      "needs_background": "light"
     },
     "output_type": "display_data"
    }
   ],
   "source": [
    "home = dataset[dataset[\"Main Category\"] == 'Home & Kitchen ']\n",
    "sns.boxplot(data = home, x='Main Category', y='Selling Price($)', showfliers=False)\n",
    "plt.title(\"Distribution of the Prices in Home & Kitchen Category\")\n"
   ]
  },
  {
   "cell_type": "code",
   "execution_count": 23,
   "id": "80dbf78e",
   "metadata": {},
   "outputs": [
    {
     "data": {
      "text/plain": [
       "Text(0.5, 1.0, 'Relationship between Price & Shipping Weight in Home & Kitchen Category')"
      ]
     },
     "execution_count": 23,
     "metadata": {},
     "output_type": "execute_result"
    },
    {
     "data": {
      "image/png": "[encoded data removed]",
      "text/plain": [
       "<Figure size 432x288 with 1 Axes>"
      ]
     },
     "metadata": {
      "needs_background": "light"
     },
     "output_type": "display_data"
    }
   ],
   "source": [
    "#generate scatterplot to understand the relationship\n",
    "sns.scatterplot(data=home, x=\"Selling Price($)\", y=\"Shipping Weight(Pounds)\")\n",
    "plt.title(\"Relationship between Price & Shipping Weight in Home & Kitchen Category\")"
   ]
  },
  {
   "cell_type": "code",
   "execution_count": 24,
   "id": "5a6f124e",
   "metadata": {},
   "outputs": [],
   "source": [
    "#EDA done, we develop our scraper"
   ]
  },
  {
   "cell_type": "code",
   "execution_count": 25,
   "id": "6b48229e",
   "metadata": {},
   "outputs": [],
   "source": [
    "import pandas as pd\n",
    "pd.set_option('display.max_rows', None)\n",
    "pd.set_option('display.max_columns', None)\n",
    "pd.set_option('display.width', 2000)\n",
    "pd.set_option('display.float_format', '{:20,.2f}'.format)\n",
    "pd.set_option('display.max_colwidth', None)\n"
   ]
  },
  {
   "cell_type": "code",
   "execution_count": 26,
   "id": "cbc73008",
   "metadata": {},
   "outputs": [
    {
     "data": {
      "text/plain": [
       "0    Sports & Outdoors | Outdoor Recreation | Skates, Skateboards & Scooters | Skateboarding | Standard Skateboards & Longboards | Longboards\n",
       "1                                                                                   Toys & Games | Learning & Education | Science Kits & Toys\n",
       "2                                                                                                   Toys & Games | Arts & Crafts | Craft Kits\n",
       "3                                                             Toys & Games | Hobbies | Models & Model Kits | Model Kits | Airplane & Jet Kits\n",
       "4                                                                                                     Toys & Games | Puzzles | Jigsaw Puzzles\n",
       "Name: Category, dtype: object"
      ]
     },
     "execution_count": 26,
     "metadata": {},
     "output_type": "execute_result"
    }
   ],
   "source": [
    "dataset2 = pd.read_csv(\"/Users/anshulreddy/R_storage/marketing_sample_for_amazon_com-ecommerce__20200101_20200131__10k_data.csv\")\n",
    "dataset2[\"Category\"].head()"
   ]
  },
  {
   "cell_type": "code",
   "execution_count": 27,
   "id": "e7f396fa",
   "metadata": {},
   "outputs": [
    {
     "data": {
      "text/plain": [
       "(10002, 1133)"
      ]
     },
     "execution_count": 27,
     "metadata": {},
     "output_type": "execute_result"
    }
   ],
   "source": [
    "#Import TfIdfVectorizer from scikit-learn\n",
    "from sklearn.feature_extraction.text import TfidfVectorizer\n",
    "\n",
    "#Define a TF-IDF Vectorizer Object. Remove all english stop words such as 'the', 'a'\n",
    "tfidf = TfidfVectorizer(stop_words='english')\n",
    "\n",
    "#Replace NaN with an empty string\n",
    "dataset2[\"Category\"] = dataset2[\"Category\"].fillna(\"\")\n",
    "\n",
    "#Construct the required TF-IDF matrix by fitting and transforming the data\n",
    "tfidf_matrix = tfidf.fit_transform(dataset2[\"Category\"])\n",
    "\n",
    "#Output the shape of tfidf_matrix\n",
    "tfidf_matrix.shape"
   ]
  },
  {
   "cell_type": "code",
   "execution_count": 28,
   "id": "eb896716",
   "metadata": {},
   "outputs": [
    {
     "name": "stderr",
     "output_type": "stream",
     "text": [
      "/Users/anshulreddy/opt/anaconda3/lib/python3.9/site-packages/sklearn/utils/deprecation.py:87: FutureWarning: Function get_feature_names is deprecated; get_feature_names is deprecated in 1.0 and will be removed in 1.2. Please use get_feature_names_out instead.\n",
      "  warnings.warn(msg, category=FutureWarning)\n"
     ]
    },
    {
     "data": {
      "text/plain": [
       "['accent',\n",
       " 'accents',\n",
       " 'accessories',\n",
       " 'accessory',\n",
       " 'action',\n",
       " 'activities',\n",
       " 'activity',\n",
       " 'additives',\n",
       " 'adhesives',\n",
       " 'adirondack',\n",
       " 'adult',\n",
       " 'advent',\n",
       " 'agility',\n",
       " 'aids',\n",
       " 'air',\n",
       " 'airbrush',\n",
       " 'aircraft',\n",
       " 'airplane',\n",
       " 'airplanes',\n",
       " 'albums']"
      ]
     },
     "execution_count": 28,
     "metadata": {},
     "output_type": "execute_result"
    }
   ],
   "source": [
    "#Array mapping from feature integer indices to feature name.\n",
    "tfidf.get_feature_names()[0:20]"
   ]
  },
  {
   "cell_type": "code",
   "execution_count": 29,
   "id": "7a935a60",
   "metadata": {},
   "outputs": [],
   "source": [
    "# Import linear_kernel, cosine_similarity, and sigmoid_kernel\n",
    "from sklearn.metrics.pairwise import linear_kernel\n",
    "from sklearn.metrics.pairwise import cosine_similarity\n",
    "from sklearn.metrics.pairwise import sigmoid_kernel\n",
    "\n",
    "# Compute the cosine similarity matrix\n",
    "linear = linear_kernel(tfidf_matrix, tfidf_matrix)\n",
    "cosine_sim = cosine_similarity(tfidf_matrix, tfidf_matrix)\n",
    "sig_score = sigmoid_kernel(tfidf_matrix, tfidf_matrix)"
   ]
  },
  {
   "cell_type": "code",
   "execution_count": 30,
   "id": "6317cd5a",
   "metadata": {},
   "outputs": [
    {
     "name": "stdout",
     "output_type": "stream",
     "text": [
      "[0.         1.         0.27876877 ... 0.25244281 0.27876877 0.        ]\n",
      "[0.         1.         0.27876877 ... 0.25244281 0.27876877 0.        ]\n",
      "[0.76159416 0.76196458 0.76169747 ... 0.76168771 0.76169747 0.76159416]\n"
     ]
    }
   ],
   "source": [
    "print(linear[1])\n",
    "print(cosine_sim[1])\n",
    "print(sig_score[1])\n"
   ]
  },
  {
   "cell_type": "code",
   "execution_count": 31,
   "id": "cce4a4ad",
   "metadata": {},
   "outputs": [],
   "source": [
    "#This matrix represents each product category's similarity score with every other product category.\n",
    "\n"
   ]
  },
  {
   "cell_type": "code",
   "execution_count": 32,
   "id": "04c85ecf",
   "metadata": {},
   "outputs": [],
   "source": [
    "#Construct a reverse map of indices and product names\n",
    "indices = pd.Series(dataset.index, index=dataset[\"Product Name\"])"
   ]
  },
  {
   "cell_type": "code",
   "execution_count": 33,
   "id": "df21eb97",
   "metadata": {},
   "outputs": [
    {
     "data": {
      "text/plain": [
       "Product Name\n",
       "DB Longboards CoreFlex Crossbow 41\" Bamboo Fiberglass Longboard Complete                                                                             0\n",
       "Electronic Snap Circuits Mini Kits Classpack, FM Radio, Motion Detector, Music Box (Set of 5)                                                        1\n",
       "3Doodler Create Flexy 3D Printing Filament Refill Bundle (X5 Pack, Over 1000'. of Extruded Plastics! - Innovate                                      2\n",
       "Guillow Airplane Design Studio with Travel Case Building Kit                                                                                         3\n",
       "Woodstock- Collage 500 pc Puzzle                                                                                                                     4\n",
       "Rubie's Child's Pokemon Deluxe Pikachu Costume, X-Small                                                                                              6\n",
       "ARTSCAPE Etched Glass 24\" x 36\" Window Film, 24-by-36-Inch                                                                                           8\n",
       "Moonlite, 3-Story Bundle for Boys, Includes 3 Story Reels for Use with Storybook Projector                                                          10\n",
       "DC Cover Girls: Black Canary by Joëlle Jones Statue                                                                                                 11\n",
       "LEGO Minecraft Creeper BigFig and Ocelot Characters 21156 Buildable Toy Minecraft Figure Gift Set for Play and Decoration, New 2020 (184 Pieces)    13\n",
       "C&D Visionary DC Comic Originals Flash Logo Sticker                                                                                                 14\n",
       "The Learning Journey ABC Melody Maker, Primary                                                                                                      15\n",
       "The Complete Common Core: State Standards Kit, Grade 5                                                                                              16\n",
       "Flash Furniture 25''W x 45''L Trapezoid Red HP Laminate Activity Table - Height Adjustable Short Legs                                               17\n",
       "Schylling Veterinarian Kit                                                                                                                          18\n",
       "Yellies! Frizz; Voice-Activated Spider Pet; Ages 5 & Up                                                                                             19\n",
       "Disney HK318329 Sofia The First Sleepover Set                                                                                                       20\n",
       "Team Associated 9665 Hinge Pin Brace with Hinge Pins B4/T4                                                                                          21\n",
       "PLUS PLUS - Construction Building Toy, Open Play Set - 3,600 Pieces with Storage Tub - Basic Color Mix                                              22\n",
       "Peppa Pig Shape Sorter Clock Puzzle (12Piece)                                                                                                       24\n",
       "dtype: int64"
      ]
     },
     "execution_count": 33,
     "metadata": {},
     "output_type": "execute_result"
    }
   ],
   "source": [
    "indices[:20]\n"
   ]
  },
  {
   "cell_type": "code",
   "execution_count": 34,
   "id": "f44b3126",
   "metadata": {},
   "outputs": [
    {
     "name": "stdout",
     "output_type": "stream",
     "text": [
      "Requirement already satisfied: fuzzywuzzy in ./opt/anaconda3/lib/python3.9/site-packages (0.18.0)\n",
      "Note: you may need to restart the kernel to use updated packages.\n"
     ]
    }
   ],
   "source": [
    "pip install fuzzywuzzy\n"
   ]
  },
  {
   "cell_type": "code",
   "execution_count": 35,
   "id": "1f35b608",
   "metadata": {},
   "outputs": [
    {
     "name": "stderr",
     "output_type": "stream",
     "text": [
      "/Users/anshulreddy/opt/anaconda3/lib/python3.9/site-packages/fuzzywuzzy/fuzz.py:11: UserWarning: Using slow pure-python SequenceMatcher. Install python-Levenshtein to remove this warning\n",
      "  warnings.warn('Using slow pure-python SequenceMatcher. Install python-Levenshtein to remove this warning')\n"
     ]
    }
   ],
   "source": [
    "from fuzzywuzzy import fuzz\n",
    "from fuzzywuzzy import process"
   ]
  },
  {
   "cell_type": "code",
   "execution_count": 36,
   "id": "bb766d6f",
   "metadata": {},
   "outputs": [],
   "source": [
    "choices = list(indices.index)"
   ]
  },
  {
   "cell_type": "code",
   "execution_count": 37,
   "id": "b269304e",
   "metadata": {},
   "outputs": [
    {
     "name": "stdout",
     "output_type": "stream",
     "text": [
      "CPU times: user 1.44 s, sys: 3.65 ms, total: 1.45 s\n",
      "Wall time: 1.45 s\n"
     ]
    },
    {
     "data": {
      "text/plain": [
       "'LEGO Lunch Box, Medium Pink'"
      ]
     },
     "execution_count": 37,
     "metadata": {},
     "output_type": "execute_result"
    }
   ],
   "source": [
    "%%time\n",
    "\n",
    "extracted = process.extract(\"lego\", choices, limit=1)\n",
    "extracted[0][0]"
   ]
  },
  {
   "cell_type": "code",
   "execution_count": 38,
   "id": "a0923512",
   "metadata": {},
   "outputs": [],
   "source": [
    "def rec_lin(user_input, linear=linear):\n",
    "    \n",
    "    # use fuzzywuzzy to grab the product with name closest to user input\n",
    "    extracted = process.extract(user_input, choices, limit=1)\n",
    "    product_name = extracted[0][0]\n",
    "    \n",
    "    # Get the index of the product that matches the product name\n",
    "    idx = indices[product_name]\n",
    "\n",
    "    # Get the pairwise similarity scores\n",
    "    sim_scores = list(enumerate(linear[idx]))\n",
    "\n",
    "    # Sort the products based on the similarity scores\n",
    "    sim_scores = sorted(sim_scores, key=lambda x: x[1], reverse=True)\n",
    "\n",
    "    # Get the scores of the 10 most similar products\n",
    "    sim_scores = sim_scores[1:11]\n",
    "\n",
    "    # Get the product indices\n",
    "    product_indices = [i[0] for i in sim_scores]\n",
    "    \n",
    "    df_return = dataset2[[\"Product Name\",\"Selling Price\"]].loc[product_indices]\n",
    "    # Return the top 10 most similar products\n",
    "    # return df_return.sort_values(by=\"Selling Price_processed\", ascending=True)[[\"Product Name\",\"Selling Price\"]]\n",
    "    return df_return"
   ]
  },
  {
   "cell_type": "code",
   "execution_count": 39,
   "id": "a17598bf",
   "metadata": {},
   "outputs": [
    {
     "name": "stdout",
     "output_type": "stream",
     "text": [
      "Item to be searched?arcade\n"
     ]
    },
    {
     "data": {
      "text/html": [
       "<div>\n",
       "<style scoped>\n",
       "    .dataframe tbody tr th:only-of-type {\n",
       "        vertical-align: middle;\n",
       "    }\n",
       "\n",
       "    .dataframe tbody tr th {\n",
       "        vertical-align: top;\n",
       "    }\n",
       "\n",
       "    .dataframe thead th {\n",
       "        text-align: right;\n",
       "    }\n",
       "</style>\n",
       "<table border=\"1\" class=\"dataframe\">\n",
       "  <thead>\n",
       "    <tr style=\"text-align: right;\">\n",
       "      <th></th>\n",
       "      <th>Product Name</th>\n",
       "      <th>Selling Price</th>\n",
       "    </tr>\n",
       "  </thead>\n",
       "  <tbody>\n",
       "    <tr>\n",
       "      <th>122</th>\n",
       "      <td>Enchantimals Styling Head- Brown Mailer</td>\n",
       "      <td>$18.59</td>\n",
       "    </tr>\n",
       "    <tr>\n",
       "      <th>134</th>\n",
       "      <td>Tiny Arcade Pole Position</td>\n",
       "      <td>$16.82</td>\n",
       "    </tr>\n",
       "    <tr>\n",
       "      <th>169</th>\n",
       "      <td>Amscan 399918 6 Piece Game Day Photo Props Kit, One Size, Multicolor</td>\n",
       "      <td>$8.99</td>\n",
       "    </tr>\n",
       "    <tr>\n",
       "      <th>270</th>\n",
       "      <td>DIAMOND SELECT TOYS John Wick Vinimate</td>\n",
       "      <td>$9.99</td>\n",
       "    </tr>\n",
       "    <tr>\n",
       "      <th>385</th>\n",
       "      <td>Rhode Island Novelty 5 Inch Smile Face Playground Ball</td>\n",
       "      <td>$5.14</td>\n",
       "    </tr>\n",
       "    <tr>\n",
       "      <th>485</th>\n",
       "      <td>Harry Potter 9 &amp; 3/4 Platform Soft Touch Magnet</td>\n",
       "      <td>$5.98</td>\n",
       "    </tr>\n",
       "    <tr>\n",
       "      <th>492</th>\n",
       "      <td>Forum Novelties Combat Hero Medals</td>\n",
       "      <td>$8.99</td>\n",
       "    </tr>\n",
       "    <tr>\n",
       "      <th>509</th>\n",
       "      <td>Redwood Ventures Foodie Surprise Yolkies Surprise Egg</td>\n",
       "      <td>$5.99</td>\n",
       "    </tr>\n",
       "    <tr>\n",
       "      <th>639</th>\n",
       "      <td>amscan Super Mario Brothers Tattoos, Party Favor, 192 Ct.</td>\n",
       "      <td>$5.99</td>\n",
       "    </tr>\n",
       "    <tr>\n",
       "      <th>682</th>\n",
       "      <td>Poolmaster Smash 'n' Splash Water Paddle Ball Swimming Pool Game</td>\n",
       "      <td>$13.09</td>\n",
       "    </tr>\n",
       "  </tbody>\n",
       "</table>\n",
       "</div>"
      ],
      "text/plain": [
       "                                                             Product Name Selling Price\n",
       "122                               Enchantimals Styling Head- Brown Mailer        $18.59\n",
       "134                                             Tiny Arcade Pole Position        $16.82\n",
       "169  Amscan 399918 6 Piece Game Day Photo Props Kit, One Size, Multicolor         $8.99\n",
       "270                                DIAMOND SELECT TOYS John Wick Vinimate         $9.99\n",
       "385                Rhode Island Novelty 5 Inch Smile Face Playground Ball         $5.14\n",
       "485                       Harry Potter 9 & 3/4 Platform Soft Touch Magnet         $5.98\n",
       "492                                    Forum Novelties Combat Hero Medals         $8.99\n",
       "509                 Redwood Ventures Foodie Surprise Yolkies Surprise Egg         $5.99\n",
       "639             amscan Super Mario Brothers Tattoos, Party Favor, 192 Ct.         $5.99\n",
       "682      Poolmaster Smash 'n' Splash Water Paddle Ball Swimming Pool Game        $13.09"
      ]
     },
     "execution_count": 39,
     "metadata": {},
     "output_type": "execute_result"
    }
   ],
   "source": [
    "name = input(\"Item to be searched?\")\n",
    "rec_lin(name)"
   ]
  },
  {
   "cell_type": "code",
   "execution_count": 40,
   "id": "e33f3709",
   "metadata": {},
   "outputs": [],
   "source": [
    "# I entered aracde and it returned top 10 closest searches\n",
    "#We now scrape cheapest/best rated item for the given item"
   ]
  },
  {
   "cell_type": "code",
   "execution_count": 41,
   "id": "1f77788a",
   "metadata": {},
   "outputs": [],
   "source": [
    "# Therefore we scrape for \"Enchantimals Styling Head- Brown Mailer\", remaining 9 can be scraped in similar fashion"
   ]
  },
  {
   "cell_type": "code",
   "execution_count": 43,
   "id": "0e9fbba4",
   "metadata": {},
   "outputs": [],
   "source": [
    "from bs4 import BeautifulSoup\n",
    "import requests\n",
    "import pandas as pd\n",
    "import numpy as np"
   ]
  },
  {
   "cell_type": "code",
   "execution_count": 44,
   "id": "da79811a",
   "metadata": {},
   "outputs": [],
   "source": [
    "page_url_search = \"Enchantimals+Styling+Head-+Brown+Mailer\""
   ]
  },
  {
   "cell_type": "code",
   "execution_count": 62,
   "id": "fe2977a6",
   "metadata": {},
   "outputs": [],
   "source": [
    "# Function to extract Product Title\n",
    "def get_title(soup):\n",
    "\n",
    "    try:\n",
    "        # Outer Tag Object\n",
    "        title = soup.find(\"span\", attrs={\"id\":'productTitle'})\n",
    "        \n",
    "        # Inner NavigatableString Object\n",
    "        title_value = title.text\n",
    "\n",
    "        # Title as a string value\n",
    "        title_string = title_value.strip()\n",
    "\n",
    "    except AttributeError:\n",
    "        title_string = \"\"\n",
    "\n",
    "    return title_string\n",
    "\n",
    "# Function to extract Product Price\n",
    "def get_price(soup):\n",
    "\n",
    "    try:\n",
    "        price = soup.find(\"span\", attrs={'class':'a-price aok-align-center reinventPricePriceToPayMargin priceToPay'}).find(\"span\", attrs={'class':'a-offscreen'}).text\n",
    "\n",
    "    except AttributeError:\n",
    "        price = \"\"\n",
    "\n",
    "    return price   \n",
    "  \n",
    "\n",
    "# Function to extract Product Rating\n",
    "def get_rating(soup):\n",
    "\n",
    "    try:\n",
    "        rating = soup.find(\"i\", attrs={'class':'a-icon a-icon-star a-star-4-5'}).string.strip()\n",
    "    \n",
    "    except AttributeError:\n",
    "        try:\n",
    "            rating = soup.find(\"span\", attrs={'class':'a-icon-alt'}).string.strip()\n",
    "        except:\n",
    "            rating = \"\"\t\n",
    "\n",
    "    return rating\n",
    "\n",
    "# Function to extract Number of User Reviews\n",
    "def get_review_count(soup):\n",
    "    try:\n",
    "        review_count = soup.find(\"span\", attrs={'id':'acrCustomerReviewText'}).string.strip()\n",
    "\n",
    "    except AttributeError:\n",
    "        review_count = \"\"\t\n",
    "\n",
    "    return review_count\n",
    "\n",
    "# Function to extract Availability Status\n",
    "def get_availability(soup):\n",
    "    try:\n",
    "        available = soup.find(\"div\", attrs={'id':'availability'})\n",
    "        available = available.find(\"span\").string.strip()\n",
    "\n",
    "    except AttributeError:\n",
    "        available = \"Not Available\"\t\n",
    "\n",
    "    return available"
   ]
  },
  {
   "cell_type": "code",
   "execution_count": 63,
   "id": "8496ac74",
   "metadata": {},
   "outputs": [],
   "source": [
    "if __name__ == '__main__':\n",
    "\n",
    "    # add your user agent \n",
    "    HEADERS = ({'User-Agent':'Mozilla/5.0 (Macintosh; Intel Mac OS X 10_15_7) AppleWebKit/537.36 (KHTML, like Gecko) Chrome/112.0.0.0 Safari/537.36', 'Accept-Language': 'en-US, en;q=0.5'})\n",
    "\n",
    "    # The webpage URL\n",
    "    URL = \"https://www.amazon.com/s?k=\" + page_url_search\n",
    "\n",
    "    # HTTP Request\n",
    "    webpage = requests.get(URL, headers=HEADERS)\n",
    "\n",
    "    # Soup Object containing all data\n",
    "    soup = BeautifulSoup(webpage.content, \"html.parser\")\n",
    "\n",
    "    # Fetch links as List of Tag Objects\n",
    "    links = soup.find_all(\"a\", attrs={'class':'a-link-normal s-no-outline'})\n",
    "\n",
    "    # Store the links\n",
    "    links_list = []\n",
    "\n",
    "    # Loop for extracting links from Tag Objects\n",
    "    for link in links:\n",
    "            links_list.append(link.get('href'))\n",
    "\n",
    "    d = {\"title\":[], \"price($)\":[], \"rating\":[], \"reviews\":[],\"availability\":[],\"URL\":links_list}\n",
    "    \n",
    "    # Loop for extracting product details from each link \n",
    "    for link in links_list:\n",
    "        new_webpage = requests.get(\"https://www.amazon.com\" + link, headers=HEADERS)\n",
    "\n",
    "        new_soup = BeautifulSoup(new_webpage.content, \"html.parser\")\n",
    "\n",
    "        # Function calls to display all necessary product information\n",
    "        d['title'].append(get_title(new_soup))\n",
    "        d['price($)'].append(get_price(new_soup))\n",
    "        d['rating'].append(get_rating(new_soup))\n",
    "        d['reviews'].append(get_review_count(new_soup))\n",
    "        d['availability'].append(get_availability(new_soup))\n",
    "\n",
    "    \n",
    "    amazon_df = pd.DataFrame.from_dict(d)\n",
    "    amazon_df['title'].replace('', np.nan, inplace=True)\n",
    "    amazon_df = amazon_df.dropna(subset=['title'])\n",
    "    amazon_df.to_csv(\"amazon_data.csv\", header=True, index=False)"
   ]
  },
  {
   "cell_type": "code",
   "execution_count": 64,
   "id": "ae96f7ad",
   "metadata": {},
   "outputs": [
    {
     "data": {
      "text/html": [
       "<div>\n",
       "<style scoped>\n",
       "    .dataframe tbody tr th:only-of-type {\n",
       "        vertical-align: middle;\n",
       "    }\n",
       "\n",
       "    .dataframe tbody tr th {\n",
       "        vertical-align: top;\n",
       "    }\n",
       "\n",
       "    .dataframe thead th {\n",
       "        text-align: right;\n",
       "    }\n",
       "</style>\n",
       "<table border=\"1\" class=\"dataframe\">\n",
       "  <thead>\n",
       "    <tr style=\"text-align: right;\">\n",
       "      <th></th>\n",
       "      <th>title</th>\n",
       "      <th>price($)</th>\n",
       "      <th>rating</th>\n",
       "      <th>reviews</th>\n",
       "      <th>availability</th>\n",
       "      <th>URL</th>\n",
       "    </tr>\n",
       "  </thead>\n",
       "  <tbody>\n",
       "    <tr>\n",
       "      <th>0</th>\n",
       "      <td>IMC Toys VIP Pets Color Boost - Includes 1 VIP Pets Doll, 9 Surprises, 6 Accessories| Kids Age 3+ (712003)</td>\n",
       "      <td>$9.96</td>\n",
       "      <td>4.7 out of 5 stars</td>\n",
       "      <td>457 ratings</td>\n",
       "      <td>In Stock</td>\n",
       "      <td>/IMC-Toys-Pets-Color-Boost/dp/B08S25NJY8/ref=sr_1_1?keywords=Enchantimals+Styling+Head-+Brown+Mailer&amp;qid=1682733917&amp;sr=8-1</td>\n",
       "    </tr>\n",
       "    <tr>\n",
       "      <th>1</th>\n",
       "      <td>Enchantimals Sybill Snow Leopard Small Doll (6-in) &amp; Flake Animal Friend Figure, 6-inch Small Doll with Removable Skirt, Snow boots, and Fur Headband, Great Gift for 3 to 8 Year Olds</td>\n",
       "      <td>$9.99</td>\n",
       "      <td>4.8 out of 5 stars</td>\n",
       "      <td>345 ratings</td>\n",
       "      <td>In Stock</td>\n",
       "      <td>/Enchantimals-Sybill-Leopard-Flake-Dolls/dp/B084L28GX4/ref=sr_1_2?keywords=Enchantimals+Styling+Head-+Brown+Mailer&amp;qid=1682733917&amp;sr=8-2</td>\n",
       "    </tr>\n",
       "    <tr>\n",
       "      <th>2</th>\n",
       "      <td>Enchantimals Winsley Wolf Doll &amp; Trooper Animal Figure, 6-Inch Small Doll, With Long Blue Hair, Animal Ears And Furry Tail, Removable Skirt And Shoes, Great Gift For 3 To 8 Year Olds</td>\n",
       "      <td>$16.95</td>\n",
       "      <td>4.8 out of 5 stars</td>\n",
       "      <td>10,121 ratings</td>\n",
       "      <td>In Stock</td>\n",
       "      <td>/Enchantimals-Winsley-Trooper-Animal-Removable/dp/B077PSC25L/ref=sr_1_3?keywords=Enchantimals+Styling+Head-+Brown+Mailer&amp;qid=1682733917&amp;sr=8-3</td>\n",
       "    </tr>\n",
       "    <tr>\n",
       "      <th>3</th>\n",
       "      <td>Enchantimals City Tails Bunny Farms Market 35+ Piece Playset &amp; Accessories, Great Gift for Kids Ages 4Y+</td>\n",
       "      <td>$14.02</td>\n",
       "      <td>4.6 out of 5 stars</td>\n",
       "      <td>34 ratings</td>\n",
       "      <td>In Stock</td>\n",
       "      <td>/Enchantimals-Tails-Market-Playset-Accessories/dp/B09PB6SPR9/ref=sr_1_4?keywords=Enchantimals+Styling+Head-+Brown+Mailer&amp;qid=1682733917&amp;sr=8-4</td>\n",
       "    </tr>\n",
       "    <tr>\n",
       "      <th>4</th>\n",
       "      <td>Mattel Enchantimals Naddie Narwhal Small Doll (6-in) &amp; Sword Animal Friend Figure, 6-inch Small Doll with Mermaid Skirt, Fins, and Shoes, Great Gift for 3 to 8 Year Olds</td>\n",
       "      <td>$9.99</td>\n",
       "      <td>4.9 out of 5 stars</td>\n",
       "      <td>309 ratings</td>\n",
       "      <td>In Stock</td>\n",
       "      <td>/Enchantimals-Narwhal-Mermaid-Exclusive-GJX41/dp/B084KZY4ZL/ref=sr_1_5?keywords=Enchantimals+Styling+Head-+Brown+Mailer&amp;qid=1682733917&amp;sr=8-5</td>\n",
       "    </tr>\n",
       "    <tr>\n",
       "      <th>5</th>\n",
       "      <td>Enchantimals Bubblin’ Atlantia Mermaid Bubble Maker Doll (7-in) with Dolphin Animal Figure, Great Gift for Kids Ages 3 and Up</td>\n",
       "      <td>$5.62</td>\n",
       "      <td>4.4 out of 5 stars</td>\n",
       "      <td>6 ratings</td>\n",
       "      <td>In Stock</td>\n",
       "      <td>/Enchantimals-Bubblin-Atlantia-Mermaid-Dolphin/dp/B09BW5FL5D/ref=sr_1_6?keywords=Enchantimals+Styling+Head-+Brown+Mailer&amp;qid=1682733917&amp;sr=8-6</td>\n",
       "    </tr>\n",
       "    <tr>\n",
       "      <th>6</th>\n",
       "      <td>Royal Enchantimals Family Toy Set, Deanna Dragon Doll (6-in/15.2-cm), 3 Dragon Figures and 4 Accessories, Great Gift for 3-8 Year Olds</td>\n",
       "      <td>$10.49</td>\n",
       "      <td>4.4 out of 5 stars</td>\n",
       "      <td>627 ratings</td>\n",
       "      <td>In Stock</td>\n",
       "      <td>/Enchantimals-Family-15-2-cm-Figures-Accessories/dp/B08P2DZP86/ref=sr_1_7?keywords=Enchantimals+Styling+Head-+Brown+Mailer&amp;qid=1682733917&amp;sr=8-7</td>\n",
       "    </tr>\n",
       "    <tr>\n",
       "      <th>7</th>\n",
       "      <td>Mattel Enchantimals Family Toy Set, Ofelia Ostrich Doll (6-in) with 3 Animal Figures, Sunny Savanna Collection, Great Gift for 3-8 Year Olds</td>\n",
       "      <td>$12.99</td>\n",
       "      <td>4.8 out of 5 stars</td>\n",
       "      <td>280 ratings</td>\n",
       "      <td>In Stock</td>\n",
       "      <td>/Enchantimals-Ostrich-15-2-cm-Collection-GTM32/dp/B08GLKK95T/ref=sr_1_8?keywords=Enchantimals+Styling+Head-+Brown+Mailer&amp;qid=1682733917&amp;sr=8-8</td>\n",
       "    </tr>\n",
       "    <tr>\n",
       "      <th>8</th>\n",
       "      <td>Mattel Enchantimals City Tails Poodle Do Beauty Salon, Playset with Doll (6-in) and Dog Figures with Color-Change Fun, Great Gift for Kids Ages 4Y+</td>\n",
       "      <td>$15.49</td>\n",
       "      <td>4.4 out of 5 stars</td>\n",
       "      <td>5 ratings</td>\n",
       "      <td>In Stock</td>\n",
       "      <td>/Mattel-Enchantimals-Playset-Figures-Color-Change/dp/B09P9KG5G7/ref=sr_1_9?keywords=Enchantimals+Styling+Head-+Brown+Mailer&amp;qid=1682733917&amp;sr=8-9</td>\n",
       "    </tr>\n",
       "    <tr>\n",
       "      <th>9</th>\n",
       "      <td>Enchantimals Jessa Jellyfish Doll (6in) with Color-Changing Hair and Marisa Water Animal Figure</td>\n",
       "      <td>$32.99</td>\n",
       "      <td>4.7 out of 5 stars</td>\n",
       "      <td>114 ratings</td>\n",
       "      <td>Only 3 left in stock - order soon</td>\n",
       "      <td>/Enchantimals-FKV57-Jessa-Jellyfish-Dolls/dp/B076QCW6HH/ref=sr_1_10?keywords=Enchantimals+Styling+Head-+Brown+Mailer&amp;qid=1682733917&amp;sr=8-10</td>\n",
       "    </tr>\n",
       "    <tr>\n",
       "      <th>10</th>\n",
       "      <td>Enchantimals Barnyard Nursery Playset with Haydie Horse Doll (6-inch), Trotter Horse, 3 Additional Animal Figures, and 10+ Accessories, Great Gift for 3 – 8 Year Olds, Multi</td>\n",
       "      <td>$13.21</td>\n",
       "      <td>4.6 out of 5 stars</td>\n",
       "      <td>1,551 ratings</td>\n",
       "      <td>In Stock</td>\n",
       "      <td>/Enchantimals-Barnyard-Nursery-Additional-Accessories/dp/B07XB3JFYT/ref=sr_1_11?keywords=Enchantimals+Styling+Head-+Brown+Mailer&amp;qid=1682733917&amp;sr=8-11</td>\n",
       "    </tr>\n",
       "    <tr>\n",
       "      <th>11</th>\n",
       "      <td>Mattel Enchantimals Redward Rooster Doll &amp; Cluck Animal Friend Figure, 6-inch Small Doll with Bandana, t-Shirt, Jeans, and Shoes, Great Gift for 3 to 8 Year Olds</td>\n",
       "      <td>$8.99</td>\n",
       "      <td>4.8 out of 5 stars</td>\n",
       "      <td>1,541 ratings</td>\n",
       "      <td>In Stock</td>\n",
       "      <td>/Enchantimals-Redward-Rooster-Animal-Friend/dp/B07XG6VSDT/ref=sr_1_12?keywords=Enchantimals+Styling+Head-+Brown+Mailer&amp;qid=1682733917&amp;sr=8-12</td>\n",
       "    </tr>\n",
       "    <tr>\n",
       "      <th>12</th>\n",
       "      <td>Mattel Enchantimals Family Toy Set, Pristina Polar Bear Small Doll (6-in) with 3 Animal Figures, Great Gift for 3-8 Year Olds,6 inches</td>\n",
       "      <td>$10.18</td>\n",
       "      <td>4.9 out of 5 stars</td>\n",
       "      <td>130 ratings</td>\n",
       "      <td>In Stock</td>\n",
       "      <td>/Enchantimals-Family-Pristina-Figures-Exclusive/dp/B084L1FQJ1/ref=sr_1_13?keywords=Enchantimals+Styling+Head-+Brown+Mailer&amp;qid=1682733917&amp;sr=8-13</td>\n",
       "    </tr>\n",
       "    <tr>\n",
       "      <th>13</th>\n",
       "      <td>Royal Enchantimals Family Toy Set, Brystal Bunny Doll (6-in/15.2-cm) with 3 Bunny Figures and 4 Accessories, Great Gift for 3-8 Year Olds , Pink</td>\n",
       "      <td>$13.99</td>\n",
       "      <td>4.6 out of 5 stars</td>\n",
       "      <td>109 ratings</td>\n",
       "      <td>In Stock</td>\n",
       "      <td>/Enchantimals-Brystal-15-2-cm-Figures-Accessories/dp/B08P2DZ7CB/ref=sr_1_14?keywords=Enchantimals+Styling+Head-+Brown+Mailer&amp;qid=1682733917&amp;sr=8-14</td>\n",
       "    </tr>\n",
       "    <tr>\n",
       "      <th>14</th>\n",
       "      <td>Mattel Enchantimals Zadie Zebra Doll (6-in) &amp; Ref Animal Friend Figure from Sunny Savanna Collection, Small Doll with Removable Skirt and Accessories, Great Gift for 3 to 8 Year Olds</td>\n",
       "      <td>$6.36</td>\n",
       "      <td>4.6 out of 5 stars</td>\n",
       "      <td>649 ratings</td>\n",
       "      <td>In Stock</td>\n",
       "      <td>/Enchantimals-15-2-cm-Collection-Removable-Accessories/dp/B08J4HYYTT/ref=sr_1_15?keywords=Enchantimals+Styling+Head-+Brown+Mailer&amp;qid=1682733917&amp;sr=8-15</td>\n",
       "    </tr>\n",
       "    <tr>\n",
       "      <th>15</th>\n",
       "      <td>Mattel Enchantimals Savannah Sleepover Playset with Griselda Giraffe Doll (6-in), 2 Animal Friends, Tent, and 10 Accessories, Sunny Savanna Collection, Great Gift for Kids Ages 3Y+</td>\n",
       "      <td>$15.39</td>\n",
       "      <td>4.8 out of 5 stars</td>\n",
       "      <td>432 ratings</td>\n",
       "      <td>In Stock</td>\n",
       "      <td>/Enchantimals-Sleepover-Accessories-Collection-GTM33/dp/B08GLLMQVZ/ref=sr_1_16?keywords=Enchantimals+Styling+Head-+Brown+Mailer&amp;qid=1682733917&amp;sr=8-16</td>\n",
       "    </tr>\n",
       "    <tr>\n",
       "      <th>16</th>\n",
       "      <td>Enchantimals Small Doll &amp; Accessories, City Tails Hadley Husky Doll &amp; Sledder Dog Figure, Removable Skirt</td>\n",
       "      <td>$6.98</td>\n",
       "      <td>4.4 out of 5 stars</td>\n",
       "      <td>42 ratings</td>\n",
       "      <td>In Stock</td>\n",
       "      <td>/Enchantimals-Hadley-Sledder-Removable-Accessories/dp/B09P9L7MBR/ref=sr_1_17?keywords=Enchantimals+Styling+Head-+Brown+Mailer&amp;qid=1682733917&amp;sr=8-17</td>\n",
       "    </tr>\n",
       "    <tr>\n",
       "      <th>17</th>\n",
       "      <td>Mattel Enchantimals Bree Bunny Cabin (5.8-in) with 1 Doll (3.5-in), 5 Animal Figures, and 1 Food Accessory, Harvest Hills Collection, Great Gift for Kids Ages 3 and Up</td>\n",
       "      <td>$11.69</td>\n",
       "      <td>4.8 out of 5 stars</td>\n",
       "      <td>84 ratings</td>\n",
       "      <td>In Stock</td>\n",
       "      <td>/Enchantimals-Figures-Accessory-Collection-GTM47/dp/B08GLL39Q9/ref=sr_1_18?keywords=Enchantimals+Styling+Head-+Brown+Mailer&amp;qid=1682733917&amp;sr=8-18</td>\n",
       "    </tr>\n",
       "    <tr>\n",
       "      <th>18</th>\n",
       "      <td>Enchantimals Sea Cave Cafe Playset (8.8-in), 15+ Pieces, with Martina Mermaid Doll, 2 Animal Besties, and Accessories, Great Gift for Kids Ages 3 and Up</td>\n",
       "      <td>$9.58</td>\n",
       "      <td>4.7 out of 5 stars</td>\n",
       "      <td>69 ratings</td>\n",
       "      <td>In Stock</td>\n",
       "      <td>/Enchantimals-Playset-Martina-Mermaid-Accessories/dp/B09BW49M7F/ref=sr_1_19?keywords=Enchantimals+Styling+Head-+Brown+Mailer&amp;qid=1682733917&amp;sr=8-19</td>\n",
       "    </tr>\n",
       "    <tr>\n",
       "      <th>19</th>\n",
       "      <td>Mattel Enchantimals Bathtime Splash Playset with Petya Pig Doll (6-inch), 2 Pig Figures (1 with Color-Change Feature) and 11+ Accessories, Just Add Warm Water, Great Gift for 3 – 8 Year Olds</td>\n",
       "      <td>$14.70</td>\n",
       "      <td>4.8 out of 5 stars</td>\n",
       "      <td>100 ratings</td>\n",
       "      <td>In Stock</td>\n",
       "      <td>/Enchantimals-Bathtime-Playset-Color-Change-Accessories/dp/B07XC3HPWL/ref=sr_1_20?keywords=Enchantimals+Styling+Head-+Brown+Mailer&amp;qid=1682733917&amp;sr=8-20</td>\n",
       "    </tr>\n",
       "    <tr>\n",
       "      <th>20</th>\n",
       "      <td>Enchantimals Playset, Ocean Treasures Shop Playset with Milagra Mermaid doll, Scallop, and Accessories</td>\n",
       "      <td>$9.64</td>\n",
       "      <td>4.7 out of 5 stars</td>\n",
       "      <td>13 ratings</td>\n",
       "      <td>In Stock</td>\n",
       "      <td>/Enchantimals-Playsets-Animal-Figure-Accessories/dp/B09CGKKCBZ/ref=sr_1_21?keywords=Enchantimals+Styling+Head-+Brown+Mailer&amp;qid=1682733917&amp;sr=8-21</td>\n",
       "    </tr>\n",
       "    <tr>\n",
       "      <th>21</th>\n",
       "      <td>Enchantimals Radia Rainbow Fish Doll (6-in) &amp; Flo Animal Friend Figure from Ocean Kingdom Collection, Small Doll with Removable Skirt and Accessories, Great Gift for 3 to 8 Year Old Kids</td>\n",
       "      <td>$7.99</td>\n",
       "      <td>5.0 out of 5 stars</td>\n",
       "      <td>20 ratings</td>\n",
       "      <td>In Stock</td>\n",
       "      <td>/Enchantimals-Rainbow-Collection-Removable-Accessories/dp/B09CG55P8T/ref=sr_1_22?keywords=Enchantimals+Styling+Head-+Brown+Mailer&amp;qid=1682733917&amp;sr=8-22</td>\n",
       "    </tr>\n",
       "    <tr>\n",
       "      <th>22</th>\n",
       "      <td>Mattel Enchantimals Family Toy Set, Gerika Golden Retriever Doll (6-in) with 3 Animal Figures, Great Gift for Kids Ages 4Y+</td>\n",
       "      <td>$9.39</td>\n",
       "      <td>4.6 out of 5 stars</td>\n",
       "      <td>55 ratings</td>\n",
       "      <td>In Stock</td>\n",
       "      <td>/Mattel-Enchantimals-Family-Retriever-Figures/dp/B09P9Y6KGM/ref=sr_1_23?keywords=Enchantimals+Styling+Head-+Brown+Mailer&amp;qid=1682733917&amp;sr=8-23</td>\n",
       "    </tr>\n",
       "    <tr>\n",
       "      <th>23</th>\n",
       "      <td>Mattel Enchantimals Gabriela Gazelle Doll (6-in) &amp; Racer Animal Friend Figure from Sunny Savanna Collection, Small Doll with Removable Skirt and Accessories, Great Gift for 3 to 8 Year Old Kids</td>\n",
       "      <td>$7.38</td>\n",
       "      <td>4.7 out of 5 stars</td>\n",
       "      <td>550 ratings</td>\n",
       "      <td>In Stock</td>\n",
       "      <td>/Enchantimals-Gabriela-Collection-Removable-Accessories/dp/B08J4L6Q1S/ref=sr_1_24?keywords=Enchantimals+Styling+Head-+Brown+Mailer&amp;qid=1682733917&amp;sr=8-24</td>\n",
       "    </tr>\n",
       "    <tr>\n",
       "      <th>24</th>\n",
       "      <td>Enchantimals Family Toy Set, Tinsley Turtle Doll (6-in) with Little Sibling Dolls (4-in) and 3 Sea Turtle Animal Figures, Great Gift for Kids Ages 3 and Up</td>\n",
       "      <td>$15.46</td>\n",
       "      <td>4.6 out of 5 stars</td>\n",
       "      <td>10 ratings</td>\n",
       "      <td>In Stock</td>\n",
       "      <td>/Enchantimals-Family-Tinsley-Sibling-Figures/dp/B09CFRLTSL/ref=sr_1_25?keywords=Enchantimals+Styling+Head-+Brown+Mailer&amp;qid=1682733917&amp;sr=8-25</td>\n",
       "    </tr>\n",
       "    <tr>\n",
       "      <th>25</th>\n",
       "      <td>L.O.L. Surprise O.M.G. Styling Head Royal Bee with Stick-On Hair for Endless Styles</td>\n",
       "      <td>$59.99</td>\n",
       "      <td>4.4 out of 5 stars</td>\n",
       "      <td>2,310 ratings</td>\n",
       "      <td>In Stock</td>\n",
       "      <td>/L-L-Surprise-Styling-Endless/dp/B07XSNGSJS/ref=sr_1_26?keywords=Enchantimals+Styling+Head-+Brown+Mailer&amp;qid=1682733917&amp;sr=8-26</td>\n",
       "    </tr>\n",
       "    <tr>\n",
       "      <th>26</th>\n",
       "      <td>Enchantimals Patter &amp; Piera Peacock Sister Dolls (6-in &amp; 4-in) &amp; 2 Animal Figures, Removable Skirt and Accessories, Great Gift for Kids Ages 3Y+</td>\n",
       "      <td>$12.67</td>\n",
       "      <td>4.8 out of 5 stars</td>\n",
       "      <td>17 ratings</td>\n",
       "      <td>In Stock</td>\n",
       "      <td>/Enchantimals-Peacock-Figures-Removable-Accessories/dp/B09CFSQVXC/ref=sr_1_27?keywords=Enchantimals+Styling+Head-+Brown+Mailer&amp;qid=1682733917&amp;sr=8-27</td>\n",
       "    </tr>\n",
       "    <tr>\n",
       "      <th>27</th>\n",
       "      <td>Mattel Enchantimals Smilin’ Dentist Playset with Andie Alligator Doll (6-in), Animal Figure, and Accessories, with Dental Sink Station, Chair, Tools, and More, Great Gift for 3 – 8 Year Olds</td>\n",
       "      <td>$19.95</td>\n",
       "      <td>4.7 out of 5 stars</td>\n",
       "      <td>213 ratings</td>\n",
       "      <td>Only 9 left in stock - order soon</td>\n",
       "      <td>/Mattel-Enchantimals-Smilin-Dentist-Alligator/dp/B07MZF2FHD/ref=sr_1_28?keywords=Enchantimals+Styling+Head-+Brown+Mailer&amp;qid=1682733917&amp;sr=8-28</td>\n",
       "    </tr>\n",
       "    <tr>\n",
       "      <th>28</th>\n",
       "      <td>Royal Enchantimals Royal Rolling Carriage Playset (8.09-in) with Peola Pony Doll (6-in) &amp; Petite Animal Friend Figure, 7 Accessories and Wheels that Roll, Great Gift for 3 to 8 Year Old Kids</td>\n",
       "      <td>$17.79</td>\n",
       "      <td>4.6 out of 5 stars</td>\n",
       "      <td>110 ratings</td>\n",
       "      <td>In Stock</td>\n",
       "      <td>/Enchantimals-Rolling-Carriage-Playset-Accessories/dp/B08P2D4VN9/ref=sr_1_29?keywords=Enchantimals+Styling+Head-+Brown+Mailer&amp;qid=1682733917&amp;sr=8-29</td>\n",
       "    </tr>\n",
       "    <tr>\n",
       "      <th>29</th>\n",
       "      <td>Enchantimals Family Toy Set, Dorinda Dolphin Doll (6-in) with Removable Tail and 3 Dolphin Animal Figures, Great Gift for 3 to 8 Year Old Kids</td>\n",
       "      <td>$12.09</td>\n",
       "      <td>4.9 out of 5 stars</td>\n",
       "      <td>24 ratings</td>\n",
       "      <td>In Stock</td>\n",
       "      <td>/Enchantimals-Dorinda-Dolphin-Removable-Figures/dp/B09CGCQ31C/ref=sr_1_30?keywords=Enchantimals+Styling+Head-+Brown+Mailer&amp;qid=1682733917&amp;sr=8-30</td>\n",
       "    </tr>\n",
       "    <tr>\n",
       "      <th>30</th>\n",
       "      <td>Enchantimals Bree &amp; Bedelia Bunny Sister Dolls (6-in &amp; 4-in) &amp; 2 Animal Figures, Removable Skirt and Accessories, Great Gift for Kids Ages 3Y+</td>\n",
       "      <td>$15.80</td>\n",
       "      <td>4.5 out of 5 stars</td>\n",
       "      <td>10 ratings</td>\n",
       "      <td>In Stock</td>\n",
       "      <td>/Enchantimals-Bedelia-Figures-Removable-Accessories/dp/B09CFXHJ6R/ref=sr_1_31?keywords=Enchantimals+Styling+Head-+Brown+Mailer&amp;qid=1682733917&amp;sr=8-31</td>\n",
       "    </tr>\n",
       "    <tr>\n",
       "      <th>31</th>\n",
       "      <td>Enchantimals Felicity &amp; Feana Fox Sister Dolls (6-in &amp; 4-in) &amp; 2 Animal Figures, Removable Skirt and Accessories, Great Gift for Kids Ages 3Y+</td>\n",
       "      <td>$16.99</td>\n",
       "      <td>4.7 out of 5 stars</td>\n",
       "      <td>186 ratings</td>\n",
       "      <td>In Stock</td>\n",
       "      <td>/Enchantimals-Felicity-Figures-Removable-Accessories/dp/B09CFXDX9R/ref=sr_1_32?keywords=Enchantimals+Styling+Head-+Brown+Mailer&amp;qid=1682733917&amp;sr=8-32</td>\n",
       "    </tr>\n",
       "    <tr>\n",
       "      <th>32</th>\n",
       "      <td>Enchantimals City Fun Playground Playset (12-in), with 2 Dolls, 2 Animal Figures, &amp; Accessories, Great Gift for Kids Ages 4Y+</td>\n",
       "      <td>$20.63</td>\n",
       "      <td>4.6 out of 5 stars</td>\n",
       "      <td>5 ratings</td>\n",
       "      <td>In Stock</td>\n",
       "      <td>/Enchantimals-Playground-Playset-Figures-Accessories/dp/B09P9WLQYF/ref=sr_1_33?keywords=Enchantimals+Styling+Head-+Brown+Mailer&amp;qid=1682733917&amp;sr=8-33</td>\n",
       "    </tr>\n",
       "    <tr>\n",
       "      <th>33</th>\n",
       "      <td>Enchantimals Snowtastic Sled Set with Felicity Fox Small Doll (6-in), Flick Animal Figure, Sled, and Accessories, Makes a Great Gift for 3-8 Year Olds</td>\n",
       "      <td>$19.90</td>\n",
       "      <td>4.7 out of 5 stars</td>\n",
       "      <td>152 ratings</td>\n",
       "      <td>In Stock</td>\n",
       "      <td>/Enchantimals-Snowtastic-Felicity-Accessories-Exclusive/dp/B084L1R9VV/ref=sr_1_34?keywords=Enchantimals+Styling+Head-+Brown+Mailer&amp;qid=1682733917&amp;sr=8-34</td>\n",
       "    </tr>\n",
       "    <tr>\n",
       "      <th>34</th>\n",
       "      <td>Enchantimals Stinkin’ Cute Vanity Playset with Sage Skunk Small Doll (6-in) and Caper Animal Friend Figure, Includes Vanity Set, Benches, and Beauty Accessories, Makes a Great Gift for 3-8 Year Olds</td>\n",
       "      <td>$11.25</td>\n",
       "      <td>4.9 out of 5 stars</td>\n",
       "      <td>36 ratings</td>\n",
       "      <td>In Stock</td>\n",
       "      <td>/Enchantimals-Stinkin-Vanity-Skunk-Caper/dp/B084L2238Q/ref=sr_1_35?keywords=Enchantimals+Styling+Head-+Brown+Mailer&amp;qid=1682733917&amp;sr=8-35</td>\n",
       "    </tr>\n",
       "    <tr>\n",
       "      <th>35</th>\n",
       "      <td>Enchantimals Danessa &amp; Danetta Deer Sister Dolls (6-in &amp; 4-in) &amp; 2 Animal Figures, Removable Skirt and Accessories, Great Gift for Kids Ages 3Y+</td>\n",
       "      <td>$15.93</td>\n",
       "      <td>4.4 out of 5 stars</td>\n",
       "      <td>14 ratings</td>\n",
       "      <td>In Stock</td>\n",
       "      <td>/Enchantimals-Danessa-Danetta-Removable-Accessories/dp/B09CGBFHSH/ref=sr_1_36?keywords=Enchantimals+Styling+Head-+Brown+Mailer&amp;qid=1682733917&amp;sr=8-36</td>\n",
       "    </tr>\n",
       "    <tr>\n",
       "      <th>36</th>\n",
       "      <td>Mattel Enchantimals Doll with Sheep Figure</td>\n",
       "      <td>$22.99</td>\n",
       "      <td>4.7 out of 5 stars</td>\n",
       "      <td>187 ratings</td>\n",
       "      <td>Only 1 left in stock - order soon</td>\n",
       "      <td>/Enchantimals-Lorna-Lamb-Doll-Flag/dp/B0756L6F4C/ref=sr_1_37?keywords=Enchantimals+Styling+Head-+Brown+Mailer&amp;qid=1682733917&amp;sr=8-37</td>\n",
       "    </tr>\n",
       "    <tr>\n",
       "      <th>37</th>\n",
       "      <td>Enchantimals Ultimate Water Park Playset (11.5-in x 17-in) with Shayda Sea Lion Doll, Animal Figures, and Accessories</td>\n",
       "      <td>$15.22</td>\n",
       "      <td>4.6 out of 5 stars</td>\n",
       "      <td>12 ratings</td>\n",
       "      <td>In Stock</td>\n",
       "      <td>/Enchantimals-Ultimate-Playset-Figures-Accessories/dp/B09BW5K42B/ref=sr_1_38?keywords=Enchantimals+Styling+Head-+Brown+Mailer&amp;qid=1682733917&amp;sr=8-38</td>\n",
       "    </tr>\n",
       "    <tr>\n",
       "      <th>38</th>\n",
       "      <td>Enchantimals Family Toy Set, Ottavia Otter Doll (6-in) with Little Sibling Dolls (4-in) and 3 Otter Animal Figures, Great Gift for Kids Ages 3 and Up</td>\n",
       "      <td>$17.51</td>\n",
       "      <td>4.6 out of 5 stars</td>\n",
       "      <td>19 ratings</td>\n",
       "      <td>In Stock</td>\n",
       "      <td>/Enchantimals-Family-Ottavia-Sibling-Figures/dp/B09CG1CQ3S/ref=sr_1_39?keywords=Enchantimals+Styling+Head-+Brown+Mailer&amp;qid=1682733917&amp;sr=8-39</td>\n",
       "    </tr>\n",
       "    <tr>\n",
       "      <th>39</th>\n",
       "      <td>Mattel Enchantimals Caring Vet Playset with Danessa Deer Doll and Sprint Animal Figure, 6-inch Small Doll, with Check-up Table, Basket, and Smaller Doctor Accessories, Gift for 3 to 8 Year Olds</td>\n",
       "      <td>$13.90</td>\n",
       "      <td>4.7 out of 5 stars</td>\n",
       "      <td>628 ratings</td>\n",
       "      <td>Only 19 left in stock - order soon</td>\n",
       "      <td>/Enchantimals-Danessa-Deer-Caring-Playset/dp/B07GB5JW8D/ref=sr_1_40?keywords=Enchantimals+Styling+Head-+Brown+Mailer&amp;qid=1682733917&amp;sr=8-40</td>\n",
       "    </tr>\n",
       "    <tr>\n",
       "      <th>40</th>\n",
       "      <td>5Pcs/set Frozen Elsa Anna Princess Olaf Nokk Destin Mattias Nattura Honeymaren PVC Action Figure Cake Toppers Girls Birthday Party Cake Decorating Figure Toys Figure Dolls Model Toy For Children Gift</td>\n",
       "      <td>$17.90</td>\n",
       "      <td>3.5 out of 5 stars</td>\n",
       "      <td>42 ratings</td>\n",
       "      <td>In Stock</td>\n",
       "      <td>/gp/slredirect/picassoRedirect.html/ref=pa_sp_mtf_aps_sr_pg1_1?ie=UTF8&amp;adId=A066101233HRSCWPLUY5N&amp;qualifier=1682733917&amp;id=2282919002725912&amp;widgetName=sp_mtf&amp;url=%2FPrincess-Honeymaren-Birthday-Decorating-Children%2Fdp%2FB0BFBKW9GS%2Fref%3Dsr_1_41_sspa%3Fkeywords%3DEnchantimals%2BStyling%2BHead-%2BBrown%2BMailer%26qid%3D1682733917%26sr%3D8-41-spons%26psc%3D1</td>\n",
       "    </tr>\n",
       "    <tr>\n",
       "      <th>41</th>\n",
       "      <td>Chalyna 12 Pcs Cute Stuffed Animal Toy 4 Inch Mini Plush Turtle Puppy Dog Pig Ornaments Stuffed Doll Keychain Handbag Pendant for Birthday Party Favors DIY Home Decoration (Fox Style)</td>\n",
       "      <td>$22.99</td>\n",
       "      <td>4.8 out of 5 stars</td>\n",
       "      <td>7 ratings</td>\n",
       "      <td>In Stock</td>\n",
       "      <td>/gp/slredirect/picassoRedirect.html/ref=pa_sp_mtf_aps_sr_pg1_1?ie=UTF8&amp;adId=A02401713ISJ3M02WCY0R&amp;qualifier=1682733917&amp;id=2282919002725912&amp;widgetName=sp_mtf&amp;url=%2FChalyna-Ornaments-Keychain-Birthday-Decoration%2Fdp%2FB0B2JXTC3V%2Fref%3Dsr_1_42_sspa%3Fkeywords%3DEnchantimals%2BStyling%2BHead-%2BBrown%2BMailer%26qid%3D1682733917%26sr%3D8-42-spons%26psc%3D1</td>\n",
       "    </tr>\n",
       "    <tr>\n",
       "      <th>42</th>\n",
       "      <td>Polly Pocket Keepsake Collection Mermaid Dreams Collectible Compact, Under-The-Sea Theme, Special Box, 2 Mermaid Dolls, Wearable Ring &amp; More, Collectible Gift, Ages 4 Years Old &amp; Up</td>\n",
       "      <td>$19.40</td>\n",
       "      <td>4.5 out of 5 stars</td>\n",
       "      <td>59 ratings</td>\n",
       "      <td>In Stock</td>\n",
       "      <td>/gp/slredirect/picassoRedirect.html/ref=pa_sp_mtf_aps_sr_pg1_1?ie=UTF8&amp;adId=A03062062VDFGLM9F0870&amp;qualifier=1682733917&amp;id=2282919002725912&amp;widgetName=sp_mtf&amp;url=%2FPolly-Pocket-Keepsake-Collection-Collectible%2Fdp%2FB09QLKLGZY%2Fref%3Dsr_1_43_sspa%3Fkeywords%3DEnchantimals%2BStyling%2BHead-%2BBrown%2BMailer%26qid%3D1682733917%26sr%3D8-43-spons%26psc%3D1%26smid%3DA1RYP75HASDMLC</td>\n",
       "    </tr>\n",
       "    <tr>\n",
       "      <th>43</th>\n",
       "      <td>Paradise Galleries Reborn Kittens - Furever Babies Tabby Kitten - Realistic Cat Doll Reborn Animals - Lifelike Pets Reborn Animal Dolls</td>\n",
       "      <td>$39.99</td>\n",
       "      <td>Previous page of related Sponsored Products</td>\n",
       "      <td></td>\n",
       "      <td>Temporarily out of stock.</td>\n",
       "      <td>/gp/slredirect/picassoRedirect.html/ref=pa_sp_mtf_aps_sr_pg1_1?ie=UTF8&amp;adId=A05449061ZAWG0CDLIIK6&amp;qualifier=1682733917&amp;id=2282919002725912&amp;widgetName=sp_mtf&amp;url=%2FParadise-Galleries-Reborn-Kittens-Realistic%2Fdp%2FB0BTQ2T2C7%2Fref%3Dsr_1_44_sspa%3Fkeywords%3DEnchantimals%2BStyling%2BHead-%2BBrown%2BMailer%26qid%3D1682733917%26sr%3D8-44-spons%26psc%3D1</td>\n",
       "    </tr>\n",
       "    <tr>\n",
       "      <th>44</th>\n",
       "      <td>Enchantimals Cottage Playset with Patter Peacock doll (6-in/15.2-cm), Animal Figure, and 8 Accessories, Makes a Great Gift for Kids Ages 3-8</td>\n",
       "      <td>$19.17</td>\n",
       "      <td>4.6 out of 5 stars</td>\n",
       "      <td>25 ratings</td>\n",
       "      <td>In Stock</td>\n",
       "      <td>/Enchantimals-Cottage-Playset-Peacock-Accessories/dp/B08TLYF3YJ/ref=sr_1_45?keywords=Enchantimals+Styling+Head-+Brown+Mailer&amp;qid=1682733917&amp;sr=8-45</td>\n",
       "    </tr>\n",
       "    <tr>\n",
       "      <th>45</th>\n",
       "      <td>Enchantimals City Multipack, 15+ Set with 4 Dolls (6-in) and Skateboard &amp; Rollerblade Accessories, Great Gift for Kids Ages 4Y+</td>\n",
       "      <td>$29.00</td>\n",
       "      <td>4.7 out of 5 stars</td>\n",
       "      <td>7 ratings</td>\n",
       "      <td>In Stock</td>\n",
       "      <td>/Enchantimals-Multipack-Skateboard-Rollerblade-Accessories/dp/B09PB3L85X/ref=sr_1_46?keywords=Enchantimals+Styling+Head-+Brown+Mailer&amp;qid=1682733917&amp;sr=8-46</td>\n",
       "    </tr>\n",
       "    <tr>\n",
       "      <th>46</th>\n",
       "      <td>Enchantimals Carmel Cat Family Toy Set with 3 Dolls, 3 Kitty Figures, &amp; Accessories, 10+ Pieces, Great Gift for Kids Ages 4Y+</td>\n",
       "      <td>$21.36</td>\n",
       "      <td>4.9 out of 5 stars</td>\n",
       "      <td>99 ratings</td>\n",
       "      <td>In Stock</td>\n",
       "      <td>/Enchantimals-Carmel-Family-Figures-Accessories/dp/B09P9W2DBF/ref=sr_1_47?keywords=Enchantimals+Styling+Head-+Brown+Mailer&amp;qid=1682733917&amp;sr=8-47</td>\n",
       "    </tr>\n",
       "    <tr>\n",
       "      <th>47</th>\n",
       "      <td>Enchantimals Staria Starfish Doll (6-in) &amp; Beamy Animal Friend Figure from Ocean Kingdom Collection, Small Doll with Removable Skirt and Accessories, Great Gift for 3 to 8 Year Old Kids</td>\n",
       "      <td>$9.99</td>\n",
       "      <td>4.8 out of 5 stars</td>\n",
       "      <td>21 ratings</td>\n",
       "      <td>In Stock</td>\n",
       "      <td>/Enchantimals-Starfish-Collection-Removable-Accessories/dp/B09CG2P5JS/ref=sr_1_48?keywords=Enchantimals+Styling+Head-+Brown+Mailer&amp;qid=1682733917&amp;sr=8-48</td>\n",
       "    </tr>\n",
       "    <tr>\n",
       "      <th>48</th>\n",
       "      <td>Mattel Enchantimals Clarita Clownfish Doll (6in) with Color-Change Hair &amp; Cackle Water Animal Figure</td>\n",
       "      <td>$22.85</td>\n",
       "      <td>4.6 out of 5 stars</td>\n",
       "      <td>332 ratings</td>\n",
       "      <td>Only 1 left in stock - order soon</td>\n",
       "      <td>/Enchantimals-FKV56-Clarita-Clownfish-Dolls/dp/B076Q46F3H/ref=sr_1_49?keywords=Enchantimals+Styling+Head-+Brown+Mailer&amp;qid=1682733917&amp;sr=8-49</td>\n",
       "    </tr>\n",
       "    <tr>\n",
       "      <th>49</th>\n",
       "      <td>Mattel Enchantimals Secret Besties Cambrie Cow Farmhouse 5.8-in with 1 Doll (3.5-in), 5 Animal Figures, and 1 Accessory, Harvest Hills Collection, Great Gift for Kids Ages 3 and Up</td>\n",
       "      <td>$14.89</td>\n",
       "      <td>4.8 out of 5 stars</td>\n",
       "      <td>24 ratings</td>\n",
       "      <td>In Stock</td>\n",
       "      <td>/Enchantimals-Farmhouse-Accessory-Collection-GTM48/dp/B08GLGQ8GY/ref=sr_1_50?keywords=Enchantimals+Styling+Head-+Brown+Mailer&amp;qid=1682733917&amp;sr=8-50</td>\n",
       "    </tr>\n",
       "    <tr>\n",
       "      <th>50</th>\n",
       "      <td>Enchantimals Peeki Parrot Doll and Sheeny Animal Figure</td>\n",
       "      <td>$14.99</td>\n",
       "      <td>4.8 out of 5 stars</td>\n",
       "      <td>5,205 ratings</td>\n",
       "      <td>In Stock</td>\n",
       "      <td>/Enchantimals-Peeki-Parrot-Doll-Sheeny/dp/B0756JCFF5/ref=sr_1_51?keywords=Enchantimals+Styling+Head-+Brown+Mailer&amp;qid=1682733917&amp;sr=8-51</td>\n",
       "    </tr>\n",
       "    <tr>\n",
       "      <th>51</th>\n",
       "      <td>Mattel Enchantimals Karina Koala Doll</td>\n",
       "      <td>$34.99</td>\n",
       "      <td>4.7 out of 5 stars</td>\n",
       "      <td>235 ratings</td>\n",
       "      <td>Only 4 left in stock - order soon</td>\n",
       "      <td>/Enchantimals-FNH24-Karina-Koala-Doll/dp/B076MF1Q9R/ref=sr_1_52?keywords=Enchantimals+Styling+Head-+Brown+Mailer&amp;qid=1682733917&amp;sr=8-52</td>\n",
       "    </tr>\n",
       "    <tr>\n",
       "      <th>52</th>\n",
       "      <td>Little white rabbit Flocked dolls play house toys playset, Specially designed doll house for children, Suitable for ages 3+ kid's Pre-Kindergarten Educational pet toy (Dinner table the-home scenes)</td>\n",
       "      <td>$18.59</td>\n",
       "      <td>4.4 out of 5 stars</td>\n",
       "      <td>19 ratings</td>\n",
       "      <td>In Stock</td>\n",
       "      <td>/gp/slredirect/picassoRedirect.html/ref=pa_sp_btf_aps_sr_pg1_1?ie=UTF8&amp;adId=A0002119RJOFBH2O8MNF&amp;qualifier=1682733917&amp;id=2282919002725912&amp;widgetName=sp_btf&amp;url=%2FSpecially-designed-children-Pre-Kindergarten-Educational%2Fdp%2FB0BLH1F9WZ%2Fref%3Dsr_1_53_sspa%3Fkeywords%3DEnchantimals%2BStyling%2BHead-%2BBrown%2BMailer%26qid%3D1682733917%26sr%3D8-53-spons%26psc%3D1</td>\n",
       "    </tr>\n",
       "    <tr>\n",
       "      <th>53</th>\n",
       "      <td>Enchantimals Peeki Parrot Doll and Sheeny Animal Figure</td>\n",
       "      <td>$14.99</td>\n",
       "      <td>4.8 out of 5 stars</td>\n",
       "      <td>5,205 ratings</td>\n",
       "      <td>In Stock</td>\n",
       "      <td>/gp/slredirect/picassoRedirect.html/ref=pa_sp_btf_aps_sr_pg1_1?ie=UTF8&amp;adId=A0710832NB7B7PKX7NMW&amp;qualifier=1682733917&amp;id=2282919002725912&amp;widgetName=sp_btf&amp;url=%2FEnchantimals-Peeki-Parrot-Doll-Sheeny%2Fdp%2FB0756JCFF5%2Fref%3Dsr_1_54_sspa%3Fkeywords%3DEnchantimals%2BStyling%2BHead-%2BBrown%2BMailer%26qid%3D1682733917%26sr%3D8-54-spons%26psc%3D1%26smid%3DAQM2LVK1NPJ96</td>\n",
       "    </tr>\n",
       "  </tbody>\n",
       "</table>\n",
       "</div>"
      ],
      "text/plain": [
       "                                                                                                                                                                                                      title price($)                                       rating         reviews                        availability                                                                                                                                                                                                                                                                                                                                                                                          URL\n",
       "0                                                                                                IMC Toys VIP Pets Color Boost - Includes 1 VIP Pets Doll, 9 Surprises, 6 Accessories| Kids Age 3+ (712003)    $9.96                           4.7 out of 5 stars     457 ratings                            In Stock                                                                                                                                                                                                                                                                   /IMC-Toys-Pets-Color-Boost/dp/B08S25NJY8/ref=sr_1_1?keywords=Enchantimals+Styling+Head-+Brown+Mailer&qid=1682733917&sr=8-1\n",
       "1                    Enchantimals Sybill Snow Leopard Small Doll (6-in) & Flake Animal Friend Figure, 6-inch Small Doll with Removable Skirt, Snow boots, and Fur Headband, Great Gift for 3 to 8 Year Olds    $9.99                           4.8 out of 5 stars     345 ratings                            In Stock                                                                                                                                                                                                                                                     /Enchantimals-Sybill-Leopard-Flake-Dolls/dp/B084L28GX4/ref=sr_1_2?keywords=Enchantimals+Styling+Head-+Brown+Mailer&qid=1682733917&sr=8-2\n",
       "2                    Enchantimals Winsley Wolf Doll & Trooper Animal Figure, 6-Inch Small Doll, With Long Blue Hair, Animal Ears And Furry Tail, Removable Skirt And Shoes, Great Gift For 3 To 8 Year Olds   $16.95                           4.8 out of 5 stars  10,121 ratings                            In Stock                                                                                                                                                                                                                                               /Enchantimals-Winsley-Trooper-Animal-Removable/dp/B077PSC25L/ref=sr_1_3?keywords=Enchantimals+Styling+Head-+Brown+Mailer&qid=1682733917&sr=8-3\n",
       "3                                                                                                  Enchantimals City Tails Bunny Farms Market 35+ Piece Playset & Accessories, Great Gift for Kids Ages 4Y+   $14.02                           4.6 out of 5 stars      34 ratings                            In Stock                                                                                                                                                                                                                                               /Enchantimals-Tails-Market-Playset-Accessories/dp/B09PB6SPR9/ref=sr_1_4?keywords=Enchantimals+Styling+Head-+Brown+Mailer&qid=1682733917&sr=8-4\n",
       "4                                 Mattel Enchantimals Naddie Narwhal Small Doll (6-in) & Sword Animal Friend Figure, 6-inch Small Doll with Mermaid Skirt, Fins, and Shoes, Great Gift for 3 to 8 Year Olds    $9.99                           4.9 out of 5 stars     309 ratings                            In Stock                                                                                                                                                                                                                                                /Enchantimals-Narwhal-Mermaid-Exclusive-GJX41/dp/B084KZY4ZL/ref=sr_1_5?keywords=Enchantimals+Styling+Head-+Brown+Mailer&qid=1682733917&sr=8-5\n",
       "5                                                                             Enchantimals Bubblin’ Atlantia Mermaid Bubble Maker Doll (7-in) with Dolphin Animal Figure, Great Gift for Kids Ages 3 and Up    $5.62                           4.4 out of 5 stars       6 ratings                            In Stock                                                                                                                                                                                                                                               /Enchantimals-Bubblin-Atlantia-Mermaid-Dolphin/dp/B09BW5FL5D/ref=sr_1_6?keywords=Enchantimals+Styling+Head-+Brown+Mailer&qid=1682733917&sr=8-6\n",
       "6                                                                    Royal Enchantimals Family Toy Set, Deanna Dragon Doll (6-in/15.2-cm), 3 Dragon Figures and 4 Accessories, Great Gift for 3-8 Year Olds   $10.49                           4.4 out of 5 stars     627 ratings                            In Stock                                                                                                                                                                                                                                             /Enchantimals-Family-15-2-cm-Figures-Accessories/dp/B08P2DZP86/ref=sr_1_7?keywords=Enchantimals+Styling+Head-+Brown+Mailer&qid=1682733917&sr=8-7\n",
       "7                                                              Mattel Enchantimals Family Toy Set, Ofelia Ostrich Doll (6-in) with 3 Animal Figures, Sunny Savanna Collection, Great Gift for 3-8 Year Olds   $12.99                           4.8 out of 5 stars     280 ratings                            In Stock                                                                                                                                                                                                                                               /Enchantimals-Ostrich-15-2-cm-Collection-GTM32/dp/B08GLKK95T/ref=sr_1_8?keywords=Enchantimals+Styling+Head-+Brown+Mailer&qid=1682733917&sr=8-8\n",
       "8                                                       Mattel Enchantimals City Tails Poodle Do Beauty Salon, Playset with Doll (6-in) and Dog Figures with Color-Change Fun, Great Gift for Kids Ages 4Y+   $15.49                           4.4 out of 5 stars       5 ratings                            In Stock                                                                                                                                                                                                                                            /Mattel-Enchantimals-Playset-Figures-Color-Change/dp/B09P9KG5G7/ref=sr_1_9?keywords=Enchantimals+Styling+Head-+Brown+Mailer&qid=1682733917&sr=8-9\n",
       "9                                                                                                           Enchantimals Jessa Jellyfish Doll (6in) with Color-Changing Hair and Marisa Water Animal Figure   $32.99                           4.7 out of 5 stars     114 ratings   Only 3 left in stock - order soon                                                                                                                                                                                                                                                  /Enchantimals-FKV57-Jessa-Jellyfish-Dolls/dp/B076QCW6HH/ref=sr_1_10?keywords=Enchantimals+Styling+Head-+Brown+Mailer&qid=1682733917&sr=8-10\n",
       "10                            Enchantimals Barnyard Nursery Playset with Haydie Horse Doll (6-inch), Trotter Horse, 3 Additional Animal Figures, and 10+ Accessories, Great Gift for 3 – 8 Year Olds, Multi   $13.21                           4.6 out of 5 stars   1,551 ratings                            In Stock                                                                                                                                                                                                                                      /Enchantimals-Barnyard-Nursery-Additional-Accessories/dp/B07XB3JFYT/ref=sr_1_11?keywords=Enchantimals+Styling+Head-+Brown+Mailer&qid=1682733917&sr=8-11\n",
       "11                                        Mattel Enchantimals Redward Rooster Doll & Cluck Animal Friend Figure, 6-inch Small Doll with Bandana, t-Shirt, Jeans, and Shoes, Great Gift for 3 to 8 Year Olds    $8.99                           4.8 out of 5 stars   1,541 ratings                            In Stock                                                                                                                                                                                                                                                /Enchantimals-Redward-Rooster-Animal-Friend/dp/B07XG6VSDT/ref=sr_1_12?keywords=Enchantimals+Styling+Head-+Brown+Mailer&qid=1682733917&sr=8-12\n",
       "12                                                                   Mattel Enchantimals Family Toy Set, Pristina Polar Bear Small Doll (6-in) with 3 Animal Figures, Great Gift for 3-8 Year Olds,6 inches   $10.18                           4.9 out of 5 stars     130 ratings                            In Stock                                                                                                                                                                                                                                            /Enchantimals-Family-Pristina-Figures-Exclusive/dp/B084L1FQJ1/ref=sr_1_13?keywords=Enchantimals+Styling+Head-+Brown+Mailer&qid=1682733917&sr=8-13\n",
       "13                                                         Royal Enchantimals Family Toy Set, Brystal Bunny Doll (6-in/15.2-cm) with 3 Bunny Figures and 4 Accessories, Great Gift for 3-8 Year Olds , Pink   $13.99                           4.6 out of 5 stars     109 ratings                            In Stock                                                                                                                                                                                                                                          /Enchantimals-Brystal-15-2-cm-Figures-Accessories/dp/B08P2DZ7CB/ref=sr_1_14?keywords=Enchantimals+Styling+Head-+Brown+Mailer&qid=1682733917&sr=8-14\n",
       "14                   Mattel Enchantimals Zadie Zebra Doll (6-in) & Ref Animal Friend Figure from Sunny Savanna Collection, Small Doll with Removable Skirt and Accessories, Great Gift for 3 to 8 Year Olds    $6.36                           4.6 out of 5 stars     649 ratings                            In Stock                                                                                                                                                                                                                                     /Enchantimals-15-2-cm-Collection-Removable-Accessories/dp/B08J4HYYTT/ref=sr_1_15?keywords=Enchantimals+Styling+Head-+Brown+Mailer&qid=1682733917&sr=8-15\n",
       "15                     Mattel Enchantimals Savannah Sleepover Playset with Griselda Giraffe Doll (6-in), 2 Animal Friends, Tent, and 10 Accessories, Sunny Savanna Collection, Great Gift for Kids Ages 3Y+   $15.39                           4.8 out of 5 stars     432 ratings                            In Stock                                                                                                                                                                                                                                       /Enchantimals-Sleepover-Accessories-Collection-GTM33/dp/B08GLLMQVZ/ref=sr_1_16?keywords=Enchantimals+Styling+Head-+Brown+Mailer&qid=1682733917&sr=8-16\n",
       "16                                                                                                Enchantimals Small Doll & Accessories, City Tails Hadley Husky Doll & Sledder Dog Figure, Removable Skirt    $6.98                           4.4 out of 5 stars      42 ratings                            In Stock                                                                                                                                                                                                                                         /Enchantimals-Hadley-Sledder-Removable-Accessories/dp/B09P9L7MBR/ref=sr_1_17?keywords=Enchantimals+Styling+Head-+Brown+Mailer&qid=1682733917&sr=8-17\n",
       "17                                  Mattel Enchantimals Bree Bunny Cabin (5.8-in) with 1 Doll (3.5-in), 5 Animal Figures, and 1 Food Accessory, Harvest Hills Collection, Great Gift for Kids Ages 3 and Up   $11.69                           4.8 out of 5 stars      84 ratings                            In Stock                                                                                                                                                                                                                                           /Enchantimals-Figures-Accessory-Collection-GTM47/dp/B08GLL39Q9/ref=sr_1_18?keywords=Enchantimals+Styling+Head-+Brown+Mailer&qid=1682733917&sr=8-18\n",
       "18                                                 Enchantimals Sea Cave Cafe Playset (8.8-in), 15+ Pieces, with Martina Mermaid Doll, 2 Animal Besties, and Accessories, Great Gift for Kids Ages 3 and Up    $9.58                           4.7 out of 5 stars      69 ratings                            In Stock                                                                                                                                                                                                                                          /Enchantimals-Playset-Martina-Mermaid-Accessories/dp/B09BW49M7F/ref=sr_1_19?keywords=Enchantimals+Styling+Head-+Brown+Mailer&qid=1682733917&sr=8-19\n",
       "19           Mattel Enchantimals Bathtime Splash Playset with Petya Pig Doll (6-inch), 2 Pig Figures (1 with Color-Change Feature) and 11+ Accessories, Just Add Warm Water, Great Gift for 3 – 8 Year Olds   $14.70                           4.8 out of 5 stars     100 ratings                            In Stock                                                                                                                                                                                                                                    /Enchantimals-Bathtime-Playset-Color-Change-Accessories/dp/B07XC3HPWL/ref=sr_1_20?keywords=Enchantimals+Styling+Head-+Brown+Mailer&qid=1682733917&sr=8-20\n",
       "20                                                                                                   Enchantimals Playset, Ocean Treasures Shop Playset with Milagra Mermaid doll, Scallop, and Accessories    $9.64                           4.7 out of 5 stars      13 ratings                            In Stock                                                                                                                                                                                                                                           /Enchantimals-Playsets-Animal-Figure-Accessories/dp/B09CGKKCBZ/ref=sr_1_21?keywords=Enchantimals+Styling+Head-+Brown+Mailer&qid=1682733917&sr=8-21\n",
       "21               Enchantimals Radia Rainbow Fish Doll (6-in) & Flo Animal Friend Figure from Ocean Kingdom Collection, Small Doll with Removable Skirt and Accessories, Great Gift for 3 to 8 Year Old Kids    $7.99                           5.0 out of 5 stars      20 ratings                            In Stock                                                                                                                                                                                                                                     /Enchantimals-Rainbow-Collection-Removable-Accessories/dp/B09CG55P8T/ref=sr_1_22?keywords=Enchantimals+Styling+Head-+Brown+Mailer&qid=1682733917&sr=8-22\n",
       "22                                                                              Mattel Enchantimals Family Toy Set, Gerika Golden Retriever Doll (6-in) with 3 Animal Figures, Great Gift for Kids Ages 4Y+    $9.39                           4.6 out of 5 stars      55 ratings                            In Stock                                                                                                                                                                                                                                              /Mattel-Enchantimals-Family-Retriever-Figures/dp/B09P9Y6KGM/ref=sr_1_23?keywords=Enchantimals+Styling+Head-+Brown+Mailer&qid=1682733917&sr=8-23\n",
       "23        Mattel Enchantimals Gabriela Gazelle Doll (6-in) & Racer Animal Friend Figure from Sunny Savanna Collection, Small Doll with Removable Skirt and Accessories, Great Gift for 3 to 8 Year Old Kids    $7.38                           4.7 out of 5 stars     550 ratings                            In Stock                                                                                                                                                                                                                                    /Enchantimals-Gabriela-Collection-Removable-Accessories/dp/B08J4L6Q1S/ref=sr_1_24?keywords=Enchantimals+Styling+Head-+Brown+Mailer&qid=1682733917&sr=8-24\n",
       "24                                              Enchantimals Family Toy Set, Tinsley Turtle Doll (6-in) with Little Sibling Dolls (4-in) and 3 Sea Turtle Animal Figures, Great Gift for Kids Ages 3 and Up   $15.46                           4.6 out of 5 stars      10 ratings                            In Stock                                                                                                                                                                                                                                               /Enchantimals-Family-Tinsley-Sibling-Figures/dp/B09CFRLTSL/ref=sr_1_25?keywords=Enchantimals+Styling+Head-+Brown+Mailer&qid=1682733917&sr=8-25\n",
       "25                                                                                                                      L.O.L. Surprise O.M.G. Styling Head Royal Bee with Stick-On Hair for Endless Styles   $59.99                           4.4 out of 5 stars   2,310 ratings                            In Stock                                                                                                                                                                                                                                                              /L-L-Surprise-Styling-Endless/dp/B07XSNGSJS/ref=sr_1_26?keywords=Enchantimals+Styling+Head-+Brown+Mailer&qid=1682733917&sr=8-26\n",
       "26                                                         Enchantimals Patter & Piera Peacock Sister Dolls (6-in & 4-in) & 2 Animal Figures, Removable Skirt and Accessories, Great Gift for Kids Ages 3Y+   $12.67                           4.8 out of 5 stars      17 ratings                            In Stock                                                                                                                                                                                                                                        /Enchantimals-Peacock-Figures-Removable-Accessories/dp/B09CFSQVXC/ref=sr_1_27?keywords=Enchantimals+Styling+Head-+Brown+Mailer&qid=1682733917&sr=8-27\n",
       "27           Mattel Enchantimals Smilin’ Dentist Playset with Andie Alligator Doll (6-in), Animal Figure, and Accessories, with Dental Sink Station, Chair, Tools, and More, Great Gift for 3 – 8 Year Olds   $19.95                           4.7 out of 5 stars     213 ratings   Only 9 left in stock - order soon                                                                                                                                                                                                                                              /Mattel-Enchantimals-Smilin-Dentist-Alligator/dp/B07MZF2FHD/ref=sr_1_28?keywords=Enchantimals+Styling+Head-+Brown+Mailer&qid=1682733917&sr=8-28\n",
       "28           Royal Enchantimals Royal Rolling Carriage Playset (8.09-in) with Peola Pony Doll (6-in) & Petite Animal Friend Figure, 7 Accessories and Wheels that Roll, Great Gift for 3 to 8 Year Old Kids   $17.79                           4.6 out of 5 stars     110 ratings                            In Stock                                                                                                                                                                                                                                         /Enchantimals-Rolling-Carriage-Playset-Accessories/dp/B08P2D4VN9/ref=sr_1_29?keywords=Enchantimals+Styling+Head-+Brown+Mailer&qid=1682733917&sr=8-29\n",
       "29                                                           Enchantimals Family Toy Set, Dorinda Dolphin Doll (6-in) with Removable Tail and 3 Dolphin Animal Figures, Great Gift for 3 to 8 Year Old Kids   $12.09                           4.9 out of 5 stars      24 ratings                            In Stock                                                                                                                                                                                                                                            /Enchantimals-Dorinda-Dolphin-Removable-Figures/dp/B09CGCQ31C/ref=sr_1_30?keywords=Enchantimals+Styling+Head-+Brown+Mailer&qid=1682733917&sr=8-30\n",
       "30                                                           Enchantimals Bree & Bedelia Bunny Sister Dolls (6-in & 4-in) & 2 Animal Figures, Removable Skirt and Accessories, Great Gift for Kids Ages 3Y+   $15.80                           4.5 out of 5 stars      10 ratings                            In Stock                                                                                                                                                                                                                                        /Enchantimals-Bedelia-Figures-Removable-Accessories/dp/B09CFXHJ6R/ref=sr_1_31?keywords=Enchantimals+Styling+Head-+Brown+Mailer&qid=1682733917&sr=8-31\n",
       "31                                                           Enchantimals Felicity & Feana Fox Sister Dolls (6-in & 4-in) & 2 Animal Figures, Removable Skirt and Accessories, Great Gift for Kids Ages 3Y+   $16.99                           4.7 out of 5 stars     186 ratings                            In Stock                                                                                                                                                                                                                                       /Enchantimals-Felicity-Figures-Removable-Accessories/dp/B09CFXDX9R/ref=sr_1_32?keywords=Enchantimals+Styling+Head-+Brown+Mailer&qid=1682733917&sr=8-32\n",
       "32                                                                            Enchantimals City Fun Playground Playset (12-in), with 2 Dolls, 2 Animal Figures, & Accessories, Great Gift for Kids Ages 4Y+   $20.63                           4.6 out of 5 stars       5 ratings                            In Stock                                                                                                                                                                                                                                       /Enchantimals-Playground-Playset-Figures-Accessories/dp/B09P9WLQYF/ref=sr_1_33?keywords=Enchantimals+Styling+Head-+Brown+Mailer&qid=1682733917&sr=8-33\n",
       "33                                                   Enchantimals Snowtastic Sled Set with Felicity Fox Small Doll (6-in), Flick Animal Figure, Sled, and Accessories, Makes a Great Gift for 3-8 Year Olds   $19.90                           4.7 out of 5 stars     152 ratings                            In Stock                                                                                                                                                                                                                                    /Enchantimals-Snowtastic-Felicity-Accessories-Exclusive/dp/B084L1R9VV/ref=sr_1_34?keywords=Enchantimals+Styling+Head-+Brown+Mailer&qid=1682733917&sr=8-34\n",
       "34   Enchantimals Stinkin’ Cute Vanity Playset with Sage Skunk Small Doll (6-in) and Caper Animal Friend Figure, Includes Vanity Set, Benches, and Beauty Accessories, Makes a Great Gift for 3-8 Year Olds   $11.25                           4.9 out of 5 stars      36 ratings                            In Stock                                                                                                                                                                                                                                                   /Enchantimals-Stinkin-Vanity-Skunk-Caper/dp/B084L2238Q/ref=sr_1_35?keywords=Enchantimals+Styling+Head-+Brown+Mailer&qid=1682733917&sr=8-35\n",
       "35                                                         Enchantimals Danessa & Danetta Deer Sister Dolls (6-in & 4-in) & 2 Animal Figures, Removable Skirt and Accessories, Great Gift for Kids Ages 3Y+   $15.93                           4.4 out of 5 stars      14 ratings                            In Stock                                                                                                                                                                                                                                        /Enchantimals-Danessa-Danetta-Removable-Accessories/dp/B09CGBFHSH/ref=sr_1_36?keywords=Enchantimals+Styling+Head-+Brown+Mailer&qid=1682733917&sr=8-36\n",
       "36                                                                                                                                                               Mattel Enchantimals Doll with Sheep Figure   $22.99                           4.7 out of 5 stars     187 ratings   Only 1 left in stock - order soon                                                                                                                                                                                                                                                         /Enchantimals-Lorna-Lamb-Doll-Flag/dp/B0756L6F4C/ref=sr_1_37?keywords=Enchantimals+Styling+Head-+Brown+Mailer&qid=1682733917&sr=8-37\n",
       "37                                                                                    Enchantimals Ultimate Water Park Playset (11.5-in x 17-in) with Shayda Sea Lion Doll, Animal Figures, and Accessories   $15.22                           4.6 out of 5 stars      12 ratings                            In Stock                                                                                                                                                                                                                                         /Enchantimals-Ultimate-Playset-Figures-Accessories/dp/B09BW5K42B/ref=sr_1_38?keywords=Enchantimals+Styling+Head-+Brown+Mailer&qid=1682733917&sr=8-38\n",
       "38                                                    Enchantimals Family Toy Set, Ottavia Otter Doll (6-in) with Little Sibling Dolls (4-in) and 3 Otter Animal Figures, Great Gift for Kids Ages 3 and Up   $17.51                           4.6 out of 5 stars      19 ratings                            In Stock                                                                                                                                                                                                                                               /Enchantimals-Family-Ottavia-Sibling-Figures/dp/B09CG1CQ3S/ref=sr_1_39?keywords=Enchantimals+Styling+Head-+Brown+Mailer&qid=1682733917&sr=8-39\n",
       "39        Mattel Enchantimals Caring Vet Playset with Danessa Deer Doll and Sprint Animal Figure, 6-inch Small Doll, with Check-up Table, Basket, and Smaller Doctor Accessories, Gift for 3 to 8 Year Olds   $13.90                           4.7 out of 5 stars     628 ratings  Only 19 left in stock - order soon                                                                                                                                                                                                                                                  /Enchantimals-Danessa-Deer-Caring-Playset/dp/B07GB5JW8D/ref=sr_1_40?keywords=Enchantimals+Styling+Head-+Brown+Mailer&qid=1682733917&sr=8-40\n",
       "40  5Pcs/set Frozen Elsa Anna Princess Olaf Nokk Destin Mattias Nattura Honeymaren PVC Action Figure Cake Toppers Girls Birthday Party Cake Decorating Figure Toys Figure Dolls Model Toy For Children Gift   $17.90                           3.5 out of 5 stars      42 ratings                            In Stock                      /gp/slredirect/picassoRedirect.html/ref=pa_sp_mtf_aps_sr_pg1_1?ie=UTF8&adId=A066101233HRSCWPLUY5N&qualifier=1682733917&id=2282919002725912&widgetName=sp_mtf&url=%2FPrincess-Honeymaren-Birthday-Decorating-Children%2Fdp%2FB0BFBKW9GS%2Fref%3Dsr_1_41_sspa%3Fkeywords%3DEnchantimals%2BStyling%2BHead-%2BBrown%2BMailer%26qid%3D1682733917%26sr%3D8-41-spons%26psc%3D1\n",
       "41                  Chalyna 12 Pcs Cute Stuffed Animal Toy 4 Inch Mini Plush Turtle Puppy Dog Pig Ornaments Stuffed Doll Keychain Handbag Pendant for Birthday Party Favors DIY Home Decoration (Fox Style)   $22.99                           4.8 out of 5 stars       7 ratings                            In Stock                        /gp/slredirect/picassoRedirect.html/ref=pa_sp_mtf_aps_sr_pg1_1?ie=UTF8&adId=A02401713ISJ3M02WCY0R&qualifier=1682733917&id=2282919002725912&widgetName=sp_mtf&url=%2FChalyna-Ornaments-Keychain-Birthday-Decoration%2Fdp%2FB0B2JXTC3V%2Fref%3Dsr_1_42_sspa%3Fkeywords%3DEnchantimals%2BStyling%2BHead-%2BBrown%2BMailer%26qid%3D1682733917%26sr%3D8-42-spons%26psc%3D1\n",
       "42                    Polly Pocket Keepsake Collection Mermaid Dreams Collectible Compact, Under-The-Sea Theme, Special Box, 2 Mermaid Dolls, Wearable Ring & More, Collectible Gift, Ages 4 Years Old & Up   $19.40                           4.5 out of 5 stars      59 ratings                            In Stock  /gp/slredirect/picassoRedirect.html/ref=pa_sp_mtf_aps_sr_pg1_1?ie=UTF8&adId=A03062062VDFGLM9F0870&qualifier=1682733917&id=2282919002725912&widgetName=sp_mtf&url=%2FPolly-Pocket-Keepsake-Collection-Collectible%2Fdp%2FB09QLKLGZY%2Fref%3Dsr_1_43_sspa%3Fkeywords%3DEnchantimals%2BStyling%2BHead-%2BBrown%2BMailer%26qid%3D1682733917%26sr%3D8-43-spons%26psc%3D1%26smid%3DA1RYP75HASDMLC\n",
       "43                                                                  Paradise Galleries Reborn Kittens - Furever Babies Tabby Kitten - Realistic Cat Doll Reborn Animals - Lifelike Pets Reborn Animal Dolls   $39.99  Previous page of related Sponsored Products                           Temporarily out of stock.                           /gp/slredirect/picassoRedirect.html/ref=pa_sp_mtf_aps_sr_pg1_1?ie=UTF8&adId=A05449061ZAWG0CDLIIK6&qualifier=1682733917&id=2282919002725912&widgetName=sp_mtf&url=%2FParadise-Galleries-Reborn-Kittens-Realistic%2Fdp%2FB0BTQ2T2C7%2Fref%3Dsr_1_44_sspa%3Fkeywords%3DEnchantimals%2BStyling%2BHead-%2BBrown%2BMailer%26qid%3D1682733917%26sr%3D8-44-spons%26psc%3D1\n",
       "44                                                             Enchantimals Cottage Playset with Patter Peacock doll (6-in/15.2-cm), Animal Figure, and 8 Accessories, Makes a Great Gift for Kids Ages 3-8   $19.17                           4.6 out of 5 stars      25 ratings                            In Stock                                                                                                                                                                                                                                          /Enchantimals-Cottage-Playset-Peacock-Accessories/dp/B08TLYF3YJ/ref=sr_1_45?keywords=Enchantimals+Styling+Head-+Brown+Mailer&qid=1682733917&sr=8-45\n",
       "45                                                                          Enchantimals City Multipack, 15+ Set with 4 Dolls (6-in) and Skateboard & Rollerblade Accessories, Great Gift for Kids Ages 4Y+   $29.00                           4.7 out of 5 stars       7 ratings                            In Stock                                                                                                                                                                                                                                 /Enchantimals-Multipack-Skateboard-Rollerblade-Accessories/dp/B09PB3L85X/ref=sr_1_46?keywords=Enchantimals+Styling+Head-+Brown+Mailer&qid=1682733917&sr=8-46\n",
       "46                                                                            Enchantimals Carmel Cat Family Toy Set with 3 Dolls, 3 Kitty Figures, & Accessories, 10+ Pieces, Great Gift for Kids Ages 4Y+   $21.36                           4.9 out of 5 stars      99 ratings                            In Stock                                                                                                                                                                                                                                            /Enchantimals-Carmel-Family-Figures-Accessories/dp/B09P9W2DBF/ref=sr_1_47?keywords=Enchantimals+Styling+Head-+Brown+Mailer&qid=1682733917&sr=8-47\n",
       "47                Enchantimals Staria Starfish Doll (6-in) & Beamy Animal Friend Figure from Ocean Kingdom Collection, Small Doll with Removable Skirt and Accessories, Great Gift for 3 to 8 Year Old Kids    $9.99                           4.8 out of 5 stars      21 ratings                            In Stock                                                                                                                                                                                                                                    /Enchantimals-Starfish-Collection-Removable-Accessories/dp/B09CG2P5JS/ref=sr_1_48?keywords=Enchantimals+Styling+Head-+Brown+Mailer&qid=1682733917&sr=8-48\n",
       "48                                                                                                     Mattel Enchantimals Clarita Clownfish Doll (6in) with Color-Change Hair & Cackle Water Animal Figure   $22.85                           4.6 out of 5 stars     332 ratings   Only 1 left in stock - order soon                                                                                                                                                                                                                                                /Enchantimals-FKV56-Clarita-Clownfish-Dolls/dp/B076Q46F3H/ref=sr_1_49?keywords=Enchantimals+Styling+Head-+Brown+Mailer&qid=1682733917&sr=8-49\n",
       "49                     Mattel Enchantimals Secret Besties Cambrie Cow Farmhouse 5.8-in with 1 Doll (3.5-in), 5 Animal Figures, and 1 Accessory, Harvest Hills Collection, Great Gift for Kids Ages 3 and Up   $14.89                           4.8 out of 5 stars      24 ratings                            In Stock                                                                                                                                                                                                                                         /Enchantimals-Farmhouse-Accessory-Collection-GTM48/dp/B08GLGQ8GY/ref=sr_1_50?keywords=Enchantimals+Styling+Head-+Brown+Mailer&qid=1682733917&sr=8-50\n",
       "50                                                                                                                                                  Enchantimals Peeki Parrot Doll and Sheeny Animal Figure   $14.99                           4.8 out of 5 stars   5,205 ratings                            In Stock                                                                                                                                                                                                                                                     /Enchantimals-Peeki-Parrot-Doll-Sheeny/dp/B0756JCFF5/ref=sr_1_51?keywords=Enchantimals+Styling+Head-+Brown+Mailer&qid=1682733917&sr=8-51\n",
       "51                                                                                                                                                                    Mattel Enchantimals Karina Koala Doll   $34.99                           4.7 out of 5 stars     235 ratings   Only 4 left in stock - order soon                                                                                                                                                                                                                                                      /Enchantimals-FNH24-Karina-Koala-Doll/dp/B076MF1Q9R/ref=sr_1_52?keywords=Enchantimals+Styling+Head-+Brown+Mailer&qid=1682733917&sr=8-52\n",
       "52    Little white rabbit Flocked dolls play house toys playset, Specially designed doll house for children, Suitable for ages 3+ kid's Pre-Kindergarten Educational pet toy (Dinner table the-home scenes)   $18.59                           4.4 out of 5 stars      19 ratings                            In Stock               /gp/slredirect/picassoRedirect.html/ref=pa_sp_btf_aps_sr_pg1_1?ie=UTF8&adId=A0002119RJOFBH2O8MNF&qualifier=1682733917&id=2282919002725912&widgetName=sp_btf&url=%2FSpecially-designed-children-Pre-Kindergarten-Educational%2Fdp%2FB0BLH1F9WZ%2Fref%3Dsr_1_53_sspa%3Fkeywords%3DEnchantimals%2BStyling%2BHead-%2BBrown%2BMailer%26qid%3D1682733917%26sr%3D8-53-spons%26psc%3D1\n",
       "53                                                                                                                                                  Enchantimals Peeki Parrot Doll and Sheeny Animal Figure   $14.99                           4.8 out of 5 stars   5,205 ratings                            In Stock           /gp/slredirect/picassoRedirect.html/ref=pa_sp_btf_aps_sr_pg1_1?ie=UTF8&adId=A0710832NB7B7PKX7NMW&qualifier=1682733917&id=2282919002725912&widgetName=sp_btf&url=%2FEnchantimals-Peeki-Parrot-Doll-Sheeny%2Fdp%2FB0756JCFF5%2Fref%3Dsr_1_54_sspa%3Fkeywords%3DEnchantimals%2BStyling%2BHead-%2BBrown%2BMailer%26qid%3D1682733917%26sr%3D8-54-spons%26psc%3D1%26smid%3DAQM2LVK1NPJ96"
      ]
     },
     "execution_count": 64,
     "metadata": {},
     "output_type": "execute_result"
    }
   ],
   "source": [
    "amazon_df"
   ]
  },
  {
   "cell_type": "code",
   "execution_count": 65,
   "id": "8c6561a3",
   "metadata": {},
   "outputs": [],
   "source": [
    "#Most reviewed item"
   ]
  },
  {
   "cell_type": "code",
   "execution_count": 66,
   "id": "6dd2bc19",
   "metadata": {},
   "outputs": [
    {
     "data": {
      "text/html": [
       "<div>\n",
       "<style scoped>\n",
       "    .dataframe tbody tr th:only-of-type {\n",
       "        vertical-align: middle;\n",
       "    }\n",
       "\n",
       "    .dataframe tbody tr th {\n",
       "        vertical-align: top;\n",
       "    }\n",
       "\n",
       "    .dataframe thead th {\n",
       "        text-align: right;\n",
       "    }\n",
       "</style>\n",
       "<table border=\"1\" class=\"dataframe\">\n",
       "  <thead>\n",
       "    <tr style=\"text-align: right;\">\n",
       "      <th></th>\n",
       "      <th>title</th>\n",
       "      <th>price($)</th>\n",
       "      <th>rating</th>\n",
       "      <th>reviews</th>\n",
       "      <th>availability</th>\n",
       "      <th>URL</th>\n",
       "    </tr>\n",
       "  </thead>\n",
       "  <tbody>\n",
       "    <tr>\n",
       "      <th>2</th>\n",
       "      <td>Enchantimals Winsley Wolf Doll &amp; Trooper Animal Figure, 6-Inch Small Doll, With Long Blue Hair, Animal Ears And Furry Tail, Removable Skirt And Shoes, Great Gift For 3 To 8 Year Olds</td>\n",
       "      <td>$16.95</td>\n",
       "      <td>4.8 out of 5 stars</td>\n",
       "      <td>10,121.00</td>\n",
       "      <td>In Stock</td>\n",
       "      <td>/Enchantimals-Winsley-Trooper-Animal-Removable/dp/B077PSC25L/ref=sr_1_3?keywords=Enchantimals+Styling+Head-+Brown+Mailer&amp;qid=1682733917&amp;sr=8-3</td>\n",
       "    </tr>\n",
       "  </tbody>\n",
       "</table>\n",
       "</div>"
      ],
      "text/plain": [
       "                                                                                                                                                                                    title price($)              rating              reviews availability                                                                                                                                             URL\n",
       "2  Enchantimals Winsley Wolf Doll & Trooper Animal Figure, 6-Inch Small Doll, With Long Blue Hair, Animal Ears And Furry Tail, Removable Skirt And Shoes, Great Gift For 3 To 8 Year Olds   $16.95  4.8 out of 5 stars            10,121.00     In Stock  /Enchantimals-Winsley-Trooper-Animal-Removable/dp/B077PSC25L/ref=sr_1_3?keywords=Enchantimals+Styling+Head-+Brown+Mailer&qid=1682733917&sr=8-3"
      ]
     },
     "execution_count": 66,
     "metadata": {},
     "output_type": "execute_result"
    }
   ],
   "source": [
    "amazon_df['reviews'] = amazon_df['reviews'].str.replace(',', '')\n",
    "amazon_df['reviews'] = amazon_df['reviews'].str.replace(' ', '')\n",
    "amazon_df['reviews'] = amazon_df['reviews'].str.replace('ratings', '')\n",
    "\n",
    "\n",
    "amazon_df['reviews'] = pd.to_numeric(amazon_df['reviews'])\n",
    "\n",
    "amazon_df.sort_values(by=['reviews'],ascending=False).head(1)"
   ]
  },
  {
   "cell_type": "code",
   "execution_count": 67,
   "id": "efdc1a88",
   "metadata": {},
   "outputs": [],
   "source": [
    "#Most rated item"
   ]
  },
  {
   "cell_type": "code",
   "execution_count": 68,
   "id": "2fe6eefc",
   "metadata": {},
   "outputs": [
    {
     "data": {
      "text/html": [
       "<div>\n",
       "<style scoped>\n",
       "    .dataframe tbody tr th:only-of-type {\n",
       "        vertical-align: middle;\n",
       "    }\n",
       "\n",
       "    .dataframe tbody tr th {\n",
       "        vertical-align: top;\n",
       "    }\n",
       "\n",
       "    .dataframe thead th {\n",
       "        text-align: right;\n",
       "    }\n",
       "</style>\n",
       "<table border=\"1\" class=\"dataframe\">\n",
       "  <thead>\n",
       "    <tr style=\"text-align: right;\">\n",
       "      <th></th>\n",
       "      <th>title</th>\n",
       "      <th>price($)</th>\n",
       "      <th>rating</th>\n",
       "      <th>reviews</th>\n",
       "      <th>availability</th>\n",
       "      <th>URL</th>\n",
       "    </tr>\n",
       "  </thead>\n",
       "  <tbody>\n",
       "    <tr>\n",
       "      <th>21</th>\n",
       "      <td>Enchantimals Radia Rainbow Fish Doll (6-in) &amp; Flo Animal Friend Figure from Ocean Kingdom Collection, Small Doll with Removable Skirt and Accessories, Great Gift for 3 to 8 Year Old Kids</td>\n",
       "      <td>$7.99</td>\n",
       "      <td>5.00</td>\n",
       "      <td>20.00</td>\n",
       "      <td>In Stock</td>\n",
       "      <td>/Enchantimals-Rainbow-Collection-Removable-Accessories/dp/B09CG55P8T/ref=sr_1_22?keywords=Enchantimals+Styling+Head-+Brown+Mailer&amp;qid=1682733917&amp;sr=8-22</td>\n",
       "    </tr>\n",
       "  </tbody>\n",
       "</table>\n",
       "</div>"
      ],
      "text/plain": [
       "                                                                                                                                                                                         title price($)               rating              reviews availability                                                                                                                                                       URL\n",
       "21  Enchantimals Radia Rainbow Fish Doll (6-in) & Flo Animal Friend Figure from Ocean Kingdom Collection, Small Doll with Removable Skirt and Accessories, Great Gift for 3 to 8 Year Old Kids    $7.99                 5.00                20.00     In Stock  /Enchantimals-Rainbow-Collection-Removable-Accessories/dp/B09CG55P8T/ref=sr_1_22?keywords=Enchantimals+Styling+Head-+Brown+Mailer&qid=1682733917&sr=8-22"
      ]
     },
     "execution_count": 68,
     "metadata": {},
     "output_type": "execute_result"
    }
   ],
   "source": [
    "amazon_df['rating'] = amazon_df['rating'].str[:3]\n",
    "amazon_df['rating'] = pd.to_numeric(amazon_df['rating'], errors='coerce')\n",
    "amazon_df.sort_values(by=['rating'],ascending=False).head(1)"
   ]
  },
  {
   "cell_type": "code",
   "execution_count": 69,
   "id": "53e81ede",
   "metadata": {},
   "outputs": [],
   "source": [
    "#Cheapest item"
   ]
  },
  {
   "cell_type": "code",
   "execution_count": 70,
   "id": "636aba88",
   "metadata": {},
   "outputs": [
    {
     "data": {
      "text/html": [
       "<div>\n",
       "<style scoped>\n",
       "    .dataframe tbody tr th:only-of-type {\n",
       "        vertical-align: middle;\n",
       "    }\n",
       "\n",
       "    .dataframe tbody tr th {\n",
       "        vertical-align: top;\n",
       "    }\n",
       "\n",
       "    .dataframe thead th {\n",
       "        text-align: right;\n",
       "    }\n",
       "</style>\n",
       "<table border=\"1\" class=\"dataframe\">\n",
       "  <thead>\n",
       "    <tr style=\"text-align: right;\">\n",
       "      <th></th>\n",
       "      <th>title</th>\n",
       "      <th>price($)</th>\n",
       "      <th>rating</th>\n",
       "      <th>reviews</th>\n",
       "      <th>availability</th>\n",
       "      <th>URL</th>\n",
       "    </tr>\n",
       "  </thead>\n",
       "  <tbody>\n",
       "    <tr>\n",
       "      <th>5</th>\n",
       "      <td>Enchantimals Bubblin’ Atlantia Mermaid Bubble Maker Doll (7-in) with Dolphin Animal Figure, Great Gift for Kids Ages 3 and Up</td>\n",
       "      <td>5.62</td>\n",
       "      <td>4.40</td>\n",
       "      <td>6.00</td>\n",
       "      <td>In Stock</td>\n",
       "      <td>/Enchantimals-Bubblin-Atlantia-Mermaid-Dolphin/dp/B09BW5FL5D/ref=sr_1_6?keywords=Enchantimals+Styling+Head-+Brown+Mailer&amp;qid=1682733917&amp;sr=8-6</td>\n",
       "    </tr>\n",
       "  </tbody>\n",
       "</table>\n",
       "</div>"
      ],
      "text/plain": [
       "                                                                                                                           title             price($)               rating              reviews availability                                                                                                                                             URL\n",
       "5  Enchantimals Bubblin’ Atlantia Mermaid Bubble Maker Doll (7-in) with Dolphin Animal Figure, Great Gift for Kids Ages 3 and Up                 5.62                 4.40                 6.00     In Stock  /Enchantimals-Bubblin-Atlantia-Mermaid-Dolphin/dp/B09BW5FL5D/ref=sr_1_6?keywords=Enchantimals+Styling+Head-+Brown+Mailer&qid=1682733917&sr=8-6"
      ]
     },
     "execution_count": 70,
     "metadata": {},
     "output_type": "execute_result"
    }
   ],
   "source": [
    "amazon_df['price($)'] = amazon_df['price($)'].str[1:]\n",
    "\n",
    "amazon_df['price($)'] = pd.to_numeric(amazon_df['price($)'])\n",
    "\n",
    "amazon_df.sort_values(by=['price($)'],ascending=True).head(1)"
   ]
  },
  {
   "cell_type": "code",
   "execution_count": 71,
   "id": "a3789b8f",
   "metadata": {},
   "outputs": [],
   "source": [
    "#Most expensive item"
   ]
  },
  {
   "cell_type": "code",
   "execution_count": 72,
   "id": "41b1af32",
   "metadata": {},
   "outputs": [
    {
     "data": {
      "text/html": [
       "<div>\n",
       "<style scoped>\n",
       "    .dataframe tbody tr th:only-of-type {\n",
       "        vertical-align: middle;\n",
       "    }\n",
       "\n",
       "    .dataframe tbody tr th {\n",
       "        vertical-align: top;\n",
       "    }\n",
       "\n",
       "    .dataframe thead th {\n",
       "        text-align: right;\n",
       "    }\n",
       "</style>\n",
       "<table border=\"1\" class=\"dataframe\">\n",
       "  <thead>\n",
       "    <tr style=\"text-align: right;\">\n",
       "      <th></th>\n",
       "      <th>title</th>\n",
       "      <th>price($)</th>\n",
       "      <th>rating</th>\n",
       "      <th>reviews</th>\n",
       "      <th>availability</th>\n",
       "      <th>URL</th>\n",
       "    </tr>\n",
       "  </thead>\n",
       "  <tbody>\n",
       "    <tr>\n",
       "      <th>25</th>\n",
       "      <td>L.O.L. Surprise O.M.G. Styling Head Royal Bee with Stick-On Hair for Endless Styles</td>\n",
       "      <td>59.99</td>\n",
       "      <td>4.40</td>\n",
       "      <td>2,310.00</td>\n",
       "      <td>In Stock</td>\n",
       "      <td>/L-L-Surprise-Styling-Endless/dp/B07XSNGSJS/ref=sr_1_26?keywords=Enchantimals+Styling+Head-+Brown+Mailer&amp;qid=1682733917&amp;sr=8-26</td>\n",
       "    </tr>\n",
       "  </tbody>\n",
       "</table>\n",
       "</div>"
      ],
      "text/plain": [
       "                                                                                  title             price($)               rating              reviews availability                                                                                                                              URL\n",
       "25  L.O.L. Surprise O.M.G. Styling Head Royal Bee with Stick-On Hair for Endless Styles                59.99                 4.40             2,310.00     In Stock  /L-L-Surprise-Styling-Endless/dp/B07XSNGSJS/ref=sr_1_26?keywords=Enchantimals+Styling+Head-+Brown+Mailer&qid=1682733917&sr=8-26"
      ]
     },
     "execution_count": 72,
     "metadata": {},
     "output_type": "execute_result"
    }
   ],
   "source": [
    "\n",
    "\n",
    "amazon_df.sort_values(by=['price($)'],ascending=False).head(1)"
   ]
  },
  {
   "cell_type": "code",
   "execution_count": null,
   "id": "bd719e32",
   "metadata": {},
   "outputs": [],
   "source": []
  }
 ],
 "metadata": {
  "kernelspec": {
   "display_name": "Python 3 (ipykernel)",
   "language": "python",
   "name": "python3"
  },
  "language_info": {
   "codemirror_mode": {
    "name": "ipython",
    "version": 3
   },
   "file_extension": ".py",
   "mimetype": "text/x-python",
   "name": "python",
   "nbconvert_exporter": "python",
   "pygments_lexer": "ipython3",
   "version": "3.9.12"
  }
 },
 "nbformat": 4,
 "nbformat_minor": 5
}
